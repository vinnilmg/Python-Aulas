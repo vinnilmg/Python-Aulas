{
 "cells": [
  {
   "cell_type": "markdown",
   "metadata": {},
   "source": [
    "## Exercício 10\n",
    "#### Nome: Vinicius de Lima Gomes\n",
    "#### RA: 817125437\n",
    "\n",
    "### Desvio Condicional\n",
    "1 Faça um Programa que peça dois números e imprima o maior deles."
   ]
  },
  {
   "cell_type": "code",
   "execution_count": null,
   "metadata": {},
   "outputs": [],
   "source": [
    "#Ex01\n",
    "entrada01 = input (\"Informe o primeiro numero? \")\n",
    "entrada02 = input (\"Informe o segundo numero? \")\n",
    "\n",
    "while not entrada01.isdigit() or not entrada02.isdigit(): #verificar se são numeros ou não\n",
    "    print (\"Digite apenas numeros!\")\n",
    "    #pede os valores novamente se nao for numerico\n",
    "    entrada01 = input (\"Informe o primeiro numero?\")\n",
    "    entrada02 = input (\"Informe o segundo numero?\")\n",
    "else:\n",
    "    if entrada01 > entrada02: #verifica entrada01 maior que entrada02\n",
    "        print (f\"Número maior: {entrada01}\")\n",
    "    elif entrada01 == entrada02: #verificar se sao iguais\n",
    "        print (f\"{entrada01} e {entrada02} são iguais!\")\n",
    "    else:\n",
    "        print (f\"Número maior: {entrada02}\")\n"
   ]
  },
  {
   "cell_type": "markdown",
   "metadata": {},
   "source": [
    "2 Faça um Programa que verifique se uma letra digitada é vogal ou consoante."
   ]
  },
  {
   "cell_type": "code",
   "execution_count": null,
   "metadata": {},
   "outputs": [],
   "source": [
    "#Ex02\n",
    "entrada = \"\"\n",
    "\n",
    "while len(entrada) == 0 or len(entrada) > 1:\n",
    "    entrada = str (input (\"Digite uma letra: \"))\n",
    "if entrada in 'aeiou':\n",
    "    print (f\"'{entrada}' é uma Vogal!\")\n",
    "else:\n",
    "    print (f\"'{entrada}' é uma Consoante!\")"
   ]
  },
  {
   "cell_type": "markdown",
   "metadata": {},
   "source": [
    "\n",
    "3 Faça um programa para a leitura de duas notas parciais de um aluno. \n",
    "- O programa deve calcular a média alcançada por aluno e apresentar: \n",
    "- A mensagem \"Aprovado\", se a média alcançada for maior ou igual a sete; \n",
    "- A mensagem \"Reprovado\", se a média for menor do que sete; \n",
    "- A mensagem \"Aprovado com Distinção\", se a média for igual a dez. "
   ]
  },
  {
   "cell_type": "code",
   "execution_count": null,
   "metadata": {},
   "outputs": [],
   "source": [
    "#Ex03\n",
    "nota01 = input (\"Informe a nota 1: \")\n",
    "nota02 = input (\"Informe a nota 2: \")\n",
    "\n",
    "nota_01_int = int(nota01)\n",
    "nota_02_int = int(nota02)\n",
    "\n",
    "media = (nota_01_int + nota_02_int) /2\n",
    "\n",
    "if media >= 7:\n",
    "    print (\"Aprovado\")\n",
    "elif media == 10:\n",
    "    print (\"Aprovado com distinção\")\n",
    "else:\n",
    "    print (\"Reprovado\")\n",
    "    "
   ]
  },
  {
   "cell_type": "markdown",
   "metadata": {},
   "source": [
    "4 Faça um Programa que leia três números e mostre-os em ordem decrescente.\n"
   ]
  },
  {
   "cell_type": "code",
   "execution_count": null,
   "metadata": {},
   "outputs": [],
   "source": [
    "#Ex04\n",
    "num01 = int(input (\"Digite o primeiro numero \"))\n",
    "num02 = int(input (\"Digite o segundo numero \"))\n",
    "num03 = int(input (\"Digite o terceiro numero \"))\n",
    "\n",
    "numeros = [num01, num02, num03]\n",
    "numeros.sort(reverse = True)\n",
    "\n",
    "print(f\"Lista decrescente: {numeros}\")"
   ]
  },
  {
   "cell_type": "markdown",
   "metadata": {},
   "source": [
    "5 As Organizações Tabajara resolveram dar um aumento de salário aos seus colaboradores e lhe contrataram para desenvolver o programa que calculará os reajustes. Faça um programa que recebe o salário de um colaborador e o reajuste segundo o seguinte critério, baseado no salário atual:\n",
    "\n",
    "- salários até RS 280,00 (incluindo) : aumento de 20 %\n",
    "- salários entre RS 280,00 e RS 700,00 : aumento de 15 %\n",
    "- salários entre RS 700,00 e RS 1500,00 : aumento de 10 %\n",
    "- salários de RS 1500,00 em diante : aumento de 5 % \n",
    "- Após o aumento ser realizado, informe na tela:\n",
    "- o salário antes do reajuste;\n",
    "- o percentual de aumento aplicado;\n",
    "- o valor do aumento;\n",
    "- o novo salário, após o aumento."
   ]
  },
  {
   "cell_type": "code",
   "execution_count": null,
   "metadata": {},
   "outputs": [],
   "source": [
    "#Ex05\n",
    "print(\"Tabajara's\")\n",
    "\n",
    "salario = float(input (\"Digite seu salario em R$\"))\n",
    "\n",
    "if salario <= 280.00:\n",
    "    valor_aplicado = salario * 20 / 100\n",
    "    novo_salario = salario + valor_aplicado \n",
    "    print(f\"\"\"\\nSalario antigo: R${salario} \n",
    "    \\nPercentual: 20%\n",
    "    \\nValor do aumento: R${valor_aplicado}\n",
    "    \\nNovo salario: R${novo_salario}\"\"\")\n",
    "          \n",
    "elif salario > 280.00 and salario <= 700.00:\n",
    "    valor_aplicado = salario * 15 / 100\n",
    "    novo_salario = salario + valor_aplicado \n",
    "    print(f\"\"\"\\nSalario antigo: R${salario} \n",
    "    \\nPercentual: 15%\n",
    "    \\nValor do aumento: R${valor_aplicado}\n",
    "    \\nNovo salario: R${novo_salario}\"\"\")\n",
    "    \n",
    "elif salario > 700.00 and salario <= 1500.00:\n",
    "    valor_aplicado = salario * 10 / 100\n",
    "    novo_salario = salario + valor_aplicado \n",
    "    print(f\"\"\"\\nSalario antigo: R${salario} \n",
    "    \\nPercentual: 10%\n",
    "    \\nValor do aumento: R${valor_aplicado}\n",
    "    \\nNovo salario: R${novo_salario}\"\"\")\n",
    "else:\n",
    "    valor_aplicado = salario * 5 / 100\n",
    "    novo_salario = salario + valor_aplicado \n",
    "    print(f\"\"\"\\nSalario antigo: R${salario} \n",
    "    \\nPercentual: 5%\n",
    "    \\nValor do aumento: R${valor_aplicado}\n",
    "    \\nNovo salario: R${novo_salario}\"\"\")"
   ]
  },
  {
   "cell_type": "markdown",
   "metadata": {},
   "source": [
    "6 Faça um Programa que leia um número e exiba o dia correspondente da semana. (1-Domingo, 2- Segunda, etc.), se digitar outro valor deve aparecer valor inválido."
   ]
  },
  {
   "cell_type": "code",
   "execution_count": null,
   "metadata": {},
   "outputs": [],
   "source": [
    "#Ex06\n",
    "dias_semana = [[1, 'Domingo'], [2, 'Segunda'], [3, 'Terça'], [4, 'Quarta'], [5, 'Quinta'], [6, 'Sexta'], [7, 'Sabado']]\n",
    "\n",
    "dia = 0\n",
    "while dia < 1 or dia > 7:\n",
    "    dia = int (input(\"Digite um numero de dia \"))\n",
    "    if dia >= 1 and dia <= 7:\n",
    "        break\n",
    "    else:\n",
    "        print(f\"Valor {dia} inválido!!\")\n",
    "\n",
    "for indice in range(len(dias_semana)):   \n",
    "    if dia in dias_semana[indice]:\n",
    "        print (dias_semana[indice])"
   ]
  },
  {
   "cell_type": "markdown",
   "metadata": {},
   "source": [
    "7 Faça um programa que lê as duas notas parciais obtidas por um aluno numa disciplina ao longo de um semestre, e calcule a sua média. A atribuição de conceitos obedece à tabela abaixo:\n",
    "\n",
    "- Média de Aproveitamento Conceito\n",
    "- Entre 9.0 e 10.0 A\n",
    "- Entre 7.5 e 9.0 B\n",
    "- Entre 6.0 e 7.5 C\n",
    "- Entre 4.0 e 6.0 D\n",
    "- Entre 4.0 e zero E \n",
    "\n",
    "O algoritmo deve mostrar na tela as notas, a média, o conceito correspondente e a mensagem “APROVADO” se o conceito for A, B ou C ou “REPROVADO” se o conceito for D ou E."
   ]
  },
  {
   "cell_type": "code",
   "execution_count": null,
   "metadata": {},
   "outputs": [],
   "source": [
    "#Ex07\n",
    "apr = \"APROVADO\"\n",
    "rep = \"REPROVADO\"\n",
    "conceitos = ['A', 'B', 'C', 'D', 'E']\n",
    "\n",
    "nota01 = -1\n",
    "while nota01 < 0 or nota01 > 10 or nota02 < 0 or nota02 > 10:\n",
    "    nota01 = float ( input (\"Digite a primeira nota \"))\n",
    "    nota02 = float ( input (\"Digite a segunda nota \"))\n",
    "    if nota01 < 0 or nota01 > 10 or nota02 < 0 or nota02 > 10:\n",
    "        print (\"Digite notas de 0 a 10 !!\")\n",
    "\n",
    "else:\n",
    "    media = (nota01 + nota02) /2\n",
    "\n",
    "if media >= 9.0 and media <= 10.0:\n",
    "    print (f\" Nota 1: {nota01}\\n Nota 2: {nota02}\\n Média: {media}\\n Conceito: {conceitos[0]}\\n {apr}\")\n",
    "elif media >= 7.5 and media < 9.0:\n",
    "    print (f\" Nota 1: {nota01}\\n Nota 2: {nota02}\\n Média: {media}\\n Conceito: {conceitos[1]}\\n {apr}\")\n",
    "elif media >= 6.0 and media < 7.5:\n",
    "    print (f\" Nota 1: {nota01}\\n Nota 2: {nota02}\\n Média: {media}\\n Conceito: {conceitos[2]}\\n {apr}\")\n",
    "elif media >= 4.0 and media < 6.0:\n",
    "    print (f\" Nota 1: {nota01}\\n Nota 2: {nota02}\\n Média: {media}\\n Conceito: {conceitos[3]}\\n {rep}\")\n",
    "else:\n",
    "    print (f\" Nota 1: {nota01}\\n Nota 2: {nota02}\\n Média: {media}\\n Conceito: {conceitos[4]}\\n {rep}\")\n"
   ]
  },
  {
   "cell_type": "markdown",
   "metadata": {},
   "source": [
    "8 Faça um Programa que peça os 3 lados de um triângulo. O programa deverá informar se os valores podem ser um triângulo. Indique, caso os lados formem um triângulo, se o mesmo é: equilátero, isósceles ou escaleno. Dicas:\n",
    "\n",
    "- Três lados formam um triângulo quando a soma de quaisquer dois lados for maior que o terceiro;\n",
    "- Triângulo Equilátero: três lados iguais;\n",
    "- Triângulo Isósceles: quaisquer dois lados iguais;\n",
    "- Triângulo Escaleno: três lados diferentes;"
   ]
  },
  {
   "cell_type": "code",
   "execution_count": null,
   "metadata": {},
   "outputs": [],
   "source": [
    "#Ex08\n",
    "\n",
    "lado1 = float (input ( \"Digite o primeiro lado \"))\n",
    "lado2 = float (input ( \"Digite o segundo lado \"))\n",
    "lado3 = float (input ( \"Digite o terceiro lado \"))\n",
    "\n",
    "if (lado1 + lado2) >lado3 or (lado1 + lado3) > lado2 or (lado2 +lado3) > lado1:\n",
    "    print (\"É um triangulo\")\n",
    "    if lado1 == lado2 and lado2 == lado3:\n",
    "        print (\"É um triângulo Equilátero\")\n",
    "    elif lado1 == lado2 or lado2 == lado3 or lado1 == lado3:\n",
    "        print (\"É um triângulo Isósceles\")\n",
    "    else:\n",
    "        print (\"É um triângulo Escaleno\")\n",
    "else:\n",
    "    print (\"Não é um triângulo\")"
   ]
  },
  {
   "cell_type": "markdown",
   "metadata": {},
   "source": [
    "\n",
    "9 Faça um programa que calcule as raízes de uma equação do segundo grau, na forma ax2 + bx + c. O programa deverá pedir os valores de a, b e c e fazer as consistências, informando ao usuário nas seguintes situações:\n",
    "\n",
    "- Se o usuário informar o valor de A igual a zero, a equação não é do segundo grau e o programa não deve fazer pedir os demais valores, sendo encerrado;\n",
    "- Se o delta calculado for negativo, a equação não possui raizes reais. Informe ao usuário e encerre o programa;\n",
    "- Se o delta calculado for igual a zero a equação possui apenas uma raiz real; informe-a ao usuário;\n",
    "- Se o delta for positivo, a equação possui duas raiz reais; informe-as ao usuário;"
   ]
  },
  {
   "cell_type": "code",
   "execution_count": null,
   "metadata": {},
   "outputs": [],
   "source": [
    "#Ex09\n",
    "\n",
    "a = float ( input (\"Informe o A \"))\n",
    "b = float ( input (\"Informe o B \"))\n",
    "c = float ( input (\"Informe o C \"))\n",
    "\n",
    "if a == 0:\n",
    "    print (\"Não é uma equação de segundo grau!\") \n",
    "else:\n",
    "    delta = (((b**2) - (4*a*c)))\n",
    "\n",
    "if delta <0:\n",
    "    print(\"Delta negativo, equação não possui raizes reais\")\n",
    "\n",
    "elif delta == 0:\n",
    "    raiz1= ((-b)+(delta**(1/2))/(2*a))\n",
    "    print(\"A equação possui apenas uma raiz: \", raiz1 )\n",
    "    \n",
    "else:\n",
    "        raiz1= ((-b)+(delta**(1/2))/(2*a))\n",
    "        raiz2= ((-b)-(delta**(1/2))/(2*a))\n",
    "        print(f\"A equação possui duas raizes que são: {raiz1:5.5f} e {raiz2:5.5f}\")\n"
   ]
  },
  {
   "cell_type": "markdown",
   "metadata": {},
   "source": [
    "10 Faça um Programa para um caixa eletrônico. O programa deverá perguntar ao usuário a valor do saque e depois informar quantas notas de cada valor serão fornecidas. As notas disponíveis serão as de 1, 5, 10, 50 e 100 reais. O valor mínimo é de 10 reais e o máximo de 600 reais. O programa não deve se preocupar com a quantidade de notas existentes na máquina.\n",
    "\n",
    "- Exemplo 1: Para sacar a quantia de 256 reais, o programa fornece duas notas de 100, uma nota de 50, uma nota de 5 e uma nota de 1;\n",
    "- Exemplo 2: Para sacar a quantia de 399 reais, o programa fornece três notas de 100, uma nota de 50, quatro notas de 10, uma nota de 5 e quatro notas de 1."
   ]
  },
  {
   "cell_type": "code",
   "execution_count": null,
   "metadata": {},
   "outputs": [],
   "source": [
    "#Ex10\n",
    "notas = [1, 5, 10, 50, 100]\n",
    "valor = int(input('Qual o valor? (validos entre 10 e 600)'))\n",
    "\n",
    "if valor >= 10 and valor <= 600:\n",
    "    quantia = 0\n",
    "    saida = list()\n",
    "    p = 4\n",
    "    while quantia < valor and p >= 0:\n",
    "        if valor - notas[p] >= 0:\n",
    "            saida.append(notas[p])\n",
    "            valor -= notas[p]\n",
    "        else:\n",
    "            p -= 1\n",
    "    print('As notas são: ', saida)\n",
    "else:\n",
    "    print('Valor inválido.')"
   ]
  },
  {
   "cell_type": "markdown",
   "metadata": {},
   "source": [
    "11 Faça um programa que faça 5 perguntas para uma pessoa sobre um crime. As perguntas são: \n",
    "\"Telefonou para a vítima?\" \n",
    "\n",
    "\"Esteve no local do crime?\" \n",
    "\n",
    "\"Mora perto da vítima?\"\n",
    "\n",
    "\"Devia para a vítima?\"\n",
    "\n",
    "\"Já trabalhou com a vítima?\" \n",
    "\n",
    "O programa deve no final emitir uma classificação sobre a participação da pessoa no crime. Se a pessoa responder positivamente a 2 questões ela deve ser classificada como \"Suspeita\", entre 3 e 4 como \"Cúmplice\" e 5 como \"Assassino\". Caso contrário, ele será classificado como \"Inocente\"."
   ]
  },
  {
   "cell_type": "code",
   "execution_count": null,
   "metadata": {},
   "outputs": [],
   "source": [
    "#Ex11\n",
    "\n",
    "interrogatorio = {\"Telefonou para a vítima?\":False,\n",
    "    \"Esteve no local do crime?\":False, \n",
    "    \"Mora perto da vítima?\":False,\n",
    "    \"Devia para a vítima?\":False,\n",
    "    \"Já trabalhou com a vítima?\":False}\n",
    "for item in interrogatorio:\n",
    "    interrogatorio[item]=input(item + 'S/N :').upper()=='S'\n",
    "respostas = (sum(interrogatorio.values()))\n",
    "\n",
    "if respostas == 0 or respostas == 1:\n",
    "    situacao = 'inocente'\n",
    "elif respostas == 2:\n",
    "    situacao = 'suspeito'\n",
    "elif respostas == 3 or respostas == 4:\n",
    "    situacao = 'cúmplice'\n",
    "elif respostas == 5:\n",
    "    situacao = 'assassino'\n",
    "    \n",
    "print(f'O investigado é {situacao}.')"
   ]
  },
  {
   "cell_type": "markdown",
   "metadata": {},
   "source": [
    "12 Uma fruteira está vendendo frutas com a seguinte tabela de preços: - Até 5 kg = morango R$ 2,50 O KG e Maçã r$ 1,80 - Acima = morango r$ 1,80 e maçã r$ 1,50 Se o cliente comprar mais de 8 Kg em frutas ou o valor total da compra ultrapassar R$ 25,00, receberá ainda um desconto de 10% sobre este total. Escreva um algoritmo para ler a quantidade (em Kg) de morangos e a quantidade (em Kg) de maças adquiridas e escreva o valor a ser pago pelo cliente."
   ]
  },
  {
   "cell_type": "code",
   "execution_count": null,
   "metadata": {},
   "outputs": [],
   "source": [
    "#Ex12\n",
    "\n",
    "morango = int(input(\"Quantidade de morangos: \"))\n",
    "maca = int(input(\"Quantidade de maçã: \"))\n",
    "\n",
    "valor_morango = 2.50\n",
    "valor_maca=1.80\n",
    "total_kg = morango + maca\n",
    "total_valor = 0\n",
    "\n",
    "if morango > 5:\n",
    "    valor_morango = 1.80\n",
    "if maca > 5:\n",
    "    valor_maca=1.50\n",
    "    \n",
    "total_valor = (maca * valor_maca) + (morango * valor_morango)\n",
    "\n",
    "if total_valor >25 or total_kg > 8:\n",
    "    total_valor -= total_valor *0.10\n",
    "\n",
    "print(\"Valor total dos Morangos: \", morango * valor_morango)\n",
    "print(\"Valor total das Maçãs: \", maca * valor_maca)\n",
    "print(\"Valor total a ser pago pelo cliente: \", total_valor)"
   ]
  },
  {
   "cell_type": "markdown",
   "metadata": {},
   "source": [
    "13 Faça um programa que peça uma nota, entre zero e dez. Mostre uma mensagem caso o valor seja inválido e continue pedindo até que o usuário informe um valor válido."
   ]
  },
  {
   "cell_type": "code",
   "execution_count": null,
   "metadata": {},
   "outputs": [],
   "source": [
    "#Ex13\n",
    "\n",
    "nota = int(input(\"Digite uma nota de 0 a 10: \"))\n",
    "while nota < 0 or nota > 10:\n",
    "    print(\"Nota inválida, digite apenas uma nota de 0 a 10\")\n",
    "    nota = float(input(\"Digite uma nota de 0 a 10: \"))\n",
    "    \n",
    "print(\"Nota: %.1f\" %nota)"
   ]
  },
  {
   "cell_type": "markdown",
   "metadata": {},
   "source": [
    "13 Faça um programa que leia e valide as seguintes informações:\n",
    "\n",
    "- Nome: maior que 3 caracteres;\n",
    "- Idade: entre 0 e 150;\n",
    "- Salário: maior que zero;\n",
    "- Sexo: 'f' ou 'm';\n",
    "- Estado Civil: 's', 'c', 'v', 'd';"
   ]
  },
  {
   "cell_type": "code",
   "execution_count": null,
   "metadata": {},
   "outputs": [],
   "source": [
    "#Ex13\n",
    "\n",
    "nome = ''\n",
    "idade = -1\n",
    "salario = 0\n",
    "sexo = ''\n",
    "sexo_valido = ['F', 'M']\n",
    "estado_civil = ''\n",
    "estado_civil_valido = ['S', 'C', 'V', 'D'] \n",
    "\n",
    "while len(nome) <= 3:\n",
    "      nome = input('Digite seu Nome: ')\n",
    "        \n",
    "while idade < 0 or idade > 150:\n",
    "    idade = int(input(\"Digite a idade: \"))\n",
    "    \n",
    "while salario <= 0:\n",
    "    salario= float(input(\"Digite o Salario: \"))\n",
    "    \n",
    "while sexo not in sexo_valido:\n",
    "    sexo = str(input(\"Digite o sexo: (m ou f)\")).upper()\n",
    "    \n",
    "while estado_civil not in estado_civil_valido:\n",
    "    estado_civil = str(input(\"Digite o estado civil: (s,c,v ou d)\")).upper()\n",
    "print (f\"Nome: {nome}, Idade: {idade}, Sexo: {sexo}, Estado Civil: {estado_civil}\")"
   ]
  },
  {
   "cell_type": "markdown",
   "metadata": {},
   "source": [
    "14 Faça um programa que leia 5 números e informe o maior número.\n"
   ]
  },
  {
   "cell_type": "code",
   "execution_count": null,
   "metadata": {},
   "outputs": [],
   "source": [
    "#Ex14\n",
    "\n",
    "maior = 0\n",
    "i = 1\n",
    "for i in range(5):\n",
    "    a = int(input(\"Digite um numero: \"))\n",
    "    if a > maior:\n",
    "        maior = a\n",
    "    i+=1\n",
    "print(\"Maior numero é: \", maior)"
   ]
  },
  {
   "cell_type": "markdown",
   "metadata": {},
   "source": [
    "15 Faça um programa que leia 5 números e informe a soma e a média dos números.\n"
   ]
  },
  {
   "cell_type": "code",
   "execution_count": null,
   "metadata": {},
   "outputs": [],
   "source": [
    "#Ex15\n",
    "\n",
    "soma=0\n",
    "i = 1\n",
    "while i <=5:\n",
    "    a = int(input(\"Digite um numero: \"))\n",
    "    soma+=a\n",
    "    i+=1\n",
    "print(\"Soma total: \", soma)\n",
    "print(\"Media: \",soma/ (i - 1))"
   ]
  },
  {
   "cell_type": "markdown",
   "metadata": {},
   "source": [
    "16 Faça um programa que imprima na tela apenas os números ímpares entre 1 e 50.\n"
   ]
  },
  {
   "cell_type": "code",
   "execution_count": null,
   "metadata": {},
   "outputs": [],
   "source": [
    "#Ex16\n",
    "\n",
    "for i in range(1,51,2):\n",
    "    print (i)"
   ]
  },
  {
   "cell_type": "markdown",
   "metadata": {},
   "source": [
    "17 Desenvolva um gerador de tabuada, capaz de gerar a tabuada de qualquer número inteiro entre 1 a 10. O usuário deve informar de qual numero ele deseja ver a tabuada. A saída deve ser conforme o exemplo abaixo: <br>\n",
    "Tabuada de 5:<br>\n",
    "5 X 1 = 5 <br>\n",
    "5 X 2 = 10<br>\n",
    "...<br>\n",
    "5 X 10 = 50"
   ]
  },
  {
   "cell_type": "code",
   "execution_count": null,
   "metadata": {},
   "outputs": [],
   "source": [
    "#Ex17\n",
    "\n",
    "entrada=int(input(\"Tabuada do número: \"))\n",
    "for count in range(10):\n",
    "    print(\"%d x %d = %d \" % (entrada,count+1, entrada*(count + 1 )))"
   ]
  },
  {
   "cell_type": "markdown",
   "metadata": {},
   "source": [
    "18 A série de Fibonacci é formada pela seqüência 1,1,2,3,5,8,13,21,34,55,... Faça um programa capaz de gerar a série até o n−ésimo termo."
   ]
  },
  {
   "cell_type": "code",
   "execution_count": null,
   "metadata": {},
   "outputs": [],
   "source": [
    "#Ex18\n",
    "\n",
    "n = 10\n",
    "lista = [1,1]\n",
    "for i in range(2,n):\n",
    "    lista.append(lista[i-2]+lista[i-1])\n",
    "if n == 1:\n",
    "    print([1])\n",
    "else:\n",
    "    print(lista)\n"
   ]
  },
  {
   "cell_type": "markdown",
   "metadata": {},
   "source": [
    "19 Faça um programa que calcule o fatorial de um número inteiro fornecido pelo usuário. Ex.: 5!=5.4.3.2.1=120\n",
    "\n"
   ]
  },
  {
   "cell_type": "code",
   "execution_count": null,
   "metadata": {},
   "outputs": [],
   "source": [
    "#Ex19\n",
    "\n",
    "numero = int(input(\"Digite um numero: \"))\n",
    "fatorial = numero\n",
    "while fatorial !=1:\n",
    "    fatorial -= 1\n",
    "    numero = numero*fatorial\n",
    "    aux = numero\n",
    "\n",
    "print(\"Fatorial do numero digitado é: %.2f\" %numero)"
   ]
  },
  {
   "cell_type": "markdown",
   "metadata": {},
   "source": [
    "\n",
    "20 O Sr. Manoel Joaquim possui uma grande loja de artigos de RS 1,99, com cerca de 10 caixas. Para agilizar o cálculo de quanto cada cliente deve pagar ele desenvolveu um tabela que contém o número de itens que o cliente comprou e ao lado o valor da conta. Desta forma a atendente do caixa precisa apenas contar quantos itens o cliente está levando e olhar na tabela de preços. Você foi contratado para desenvolver o programa que monta esta tabela de preços, que conterá os preços de 1 até 50 produtos, conforme o exemplo abaixo: <br>\n",
    "Lojas Quase Dois - Tabela de preços<br>\n",
    "\n",
    "RS 1.99<br>\n",
    "RS 3.98 <br>\n",
    "...<br>\n",
    "RS 99.50"
   ]
  },
  {
   "cell_type": "code",
   "execution_count": null,
   "metadata": {},
   "outputs": [],
   "source": [
    "#Ex20\n",
    "\n",
    "x = 1\n",
    "valor = 1.99\n",
    "\n",
    "print(\"Tabelas de preços\")\n",
    "\n",
    "while x <= 50:\n",
    "    print(\"%02.d - R$ %.2f\"%(x,x*valor))\n",
    "    x += 1\n"
   ]
  },
  {
   "cell_type": "markdown",
   "metadata": {},
   "source": [
    "21 O Sr. Manoel Joaquim acaba de adquirir uma panificadora e pretende implantar a metodologia da tabelinha, que já é um sucesso na sua loja de 1,99. Você foi contratado para desenvolver o programa que monta a tabela de preços de pães, de 1 até 50 pães, a partir do preço do pão informado pelo usuário, conforme o exemplo abaixo: <br>\n",
    "Preço do pão: R$ 0.18 Panificadora Pão de Ontem - Tabela de preços <br>\n",
    "\n",
    "RS 0.18 <br>\n",
    "RS 0.36 ... <br>\n",
    "RS 9.00"
   ]
  },
  {
   "cell_type": "code",
   "execution_count": null,
   "metadata": {},
   "outputs": [],
   "source": [
    "#Ex21\n",
    "\n",
    "x = 1\n",
    "valor = float(input(\"Digite o preço do Pão: \"))\n",
    "print(\"Panificadora Pão de Ontem - Tabela de preços\")\n",
    "while x <= 50:\n",
    "    print(\"%02.d - R$ %.2f\" %(x,x*valor))\n",
    "    x +=1"
   ]
  },
  {
   "cell_type": "markdown",
   "metadata": {},
   "source": [
    "22 O Sr. Manoel Joaquim expandiu seus negócios para além dos negócios de 1,99 e agora possui uma loja de conveniências. Faça um programa que implemente uma caixa registradora rudimentar. O programa deverá receber um número desconhecido de valores referentes aos preços das mercadorias. Um valor zero deve ser informado pelo operador para indicar o final da compra. O programa deve então mostrar o total da compra e perguntar o valor em dinheiro que o cliente forneceu, para então calcular e mostrar o valor do troco. Após esta operação, o programa deverá voltar ao ponto inicial, para registrar a próxima compra. A saída deve ser conforme o exemplo abaixo: <br>\n",
    "Lojas Tabajara <br>\n",
    "\n",
    "Produto 1: RS 2.20<br>\n",
    "Produto 2: RS 5.80<br>\n",
    "Produto 3: RS 0<br>\n",
    "Total: RS 9.00<br>\n",
    "Dinheiro: RS 20.00<br>\n",
    "Troco: RS 11.00 ..."
   ]
  },
  {
   "cell_type": "code",
   "execution_count": null,
   "metadata": {},
   "outputs": [],
   "source": [
    "#Ex22\n",
    "\n",
    "saida = ''\n",
    "while saida != 'N':\n",
    "    valor = ''\n",
    "    n=0\n",
    "    total = 0\n",
    "    print(\"Lojas Tabajara\")\n",
    "    while valor != 0:\n",
    "        n+=1\n",
    "        valor = float(input(\"Produto %d : \" %n))\n",
    "        total += valor\n",
    "    print(\"Total: R$ \", total)\n",
    "    dinheiro = float(input(\"Dinheiro: \"))\n",
    "    if dinheiro > total:\n",
    "        print(\"Troco: \", dinheiro - total)\n",
    "    elif dinheiro == total:\n",
    "        print(\"Não tem troco\")\n",
    "    else: \n",
    "        print(\"Dinheiro insuficiente\")\n",
    "    saida= str (input(\"Nova Compra ? S/N \")).upper()"
   ]
  },
  {
   "cell_type": "markdown",
   "metadata": {},
   "source": [
    "23 Foi feita uma estatística em cinco cidades brasileiras para coletar dados sobre acidentes de trânsito. Foram obtidos os seguintes dados:\n",
    "\n",
    "- Código da cidade;\n",
    "- Número de veículos de passeio (em 1999);\n",
    "- Número de acidentes de trânsito com vítimas (em 1999). <br>\n",
    "Deseja-se saber:\n",
    "- Qual o maior e menor índice de acidentes de transito e a que cidade pertence;\n",
    "- Qual a média de veículos nas cinco cidades juntas;\n",
    "- Qual a média de acidentes de trânsito nas cidades com menos de 2.000 veículos de passeio."
   ]
  },
  {
   "cell_type": "code",
   "execution_count": null,
   "metadata": {},
   "outputs": [],
   "source": [
    "#Ex23\n",
    "\n",
    "cod_cidade=''\n",
    "maior_veic= 0\n",
    "menor_veic=0\n",
    "maior_cid=''\n",
    "menor_cid=''\n",
    "num_veic=0\n",
    "num_acidentes = 0\n",
    "total_veic=0 \n",
    "media_acidente=0\n",
    "count=0\n",
    "if maior_veic > num_acidentes:\n",
    "    maior_veic = num_acidentes\n",
    "    maior_cid=cod_cidade\n",
    "                        \n",
    "for c in range(1,6):\n",
    "    cod_cidade = input(\"Codigo Cidade: \")\n",
    "    num_veic= int(input(\"Número de veículos de passeio (em 1999):  \"))\n",
    "    num_acidentes= (int(input(\"Número de acidentes de trânsito com vítimas (em 1999): \")))\n",
    "    total_veic += num_veic\n",
    "    \n",
    "    if num_veic > 2000:\n",
    "        media_acidente+=num_acidentes\n",
    "        count+=1\n",
    "    \n",
    "    if maior_veic < num_acidentes:\n",
    "        maior_veic = num_acidentes\n",
    "        maior_cid=cod_cidade\n",
    "        \n",
    "    if menor_veic > num_acidentes or c==1:\n",
    "        menor_veic = num_acidentes\n",
    "        menor_cid = cod_cidade\n",
    "\n",
    "print(\" {} foi a acidade com maior Indice de Acidente com {} acidentes \".format(maior_cid, maior_veic))\n",
    "print(\" {} foi a acidade com menor Indice de Acidente com {} acidentes \".format(menor_cid, menor_veic))\n",
    "print(\"A média de veículos nas cinco cidades juntas é: \", total_veic/c)\n",
    "print(\"Media de acidentes de trânsito nas cidades com menos de 2.000 veículos de passeio: \", media_acidente/count)"
   ]
  },
  {
   "cell_type": "markdown",
   "metadata": {},
   "source": [
    "24 Faça um programa que receba o valor de uma dívida e mostre uma tabela com os seguintes dados: valor da dívida, valor dos juros, quantidade de parcelas e valor da parcela.\n",
    "\n",
    "Os juros e a quantidade de parcelas seguem a tabela abaixo:\n",
    "\n",
    "Quantidade de Parcelas % de Juros sobre o valor inicial da dívida\n",
    "\n",
    "1 0\n",
    "\n",
    "3 10\n",
    "\n",
    "6 15\n",
    "\n",
    "9 20\n",
    "\n",
    "12 25\n",
    "\n",
    "Exemplo de saída do programa:\n",
    "\n",
    "Valor da Dívida - Valor dos Juros - Quantidade de Parcelas - Valor da Parcela\n",
    "\n",
    "RS 1.000,00 - 0 - 1 - RS 1.000,00 RS 1.100,00 - 100 - 3 - RS 366,00 RS 1.150,00 - 150 - 6 - RS 191,67"
   ]
  },
  {
   "cell_type": "code",
   "execution_count": null,
   "metadata": {},
   "outputs": [],
   "source": [
    "#Ex24\n",
    "\n",
    "divida = float(input(\"Digite o valor da divida: \"))\n",
    "parcela = 1\n",
    "\n",
    "print(\"Valor da divida: \", end=\"  \")\n",
    "print(\"Valor do juros: \", end=\"  \")\n",
    "print(\"Quantidade de parcelas: \", end=\"  \")\n",
    "print(\"Valor da parcela: \")\n",
    "\n",
    "for i in range(5):\n",
    "    if parcela == 1:\n",
    "        juros = 1\n",
    "        valor_juros = 0\n",
    "    elif parcela == 4:\n",
    "        parcela = 3\n",
    "        juros = 1.10\n",
    "    elif parcela == 7 or parcela == 6:\n",
    "        parcela = 6\n",
    "        juros = 1.15\n",
    "    elif parcela == 10 or parcela == 9:\n",
    "        parcela = 9\n",
    "        juros = 1.20\n",
    "    elif parcela == 13 or parcela == 12:\n",
    "        parcela = 12\n",
    "        juros = 1.25\n",
    "\n",
    "    valor_juros = divida * (juros - 1)\n",
    "    divida_com_juros = divida * juros\n",
    "    valor_parcela = divida_com_juros / parcela\n",
    "\n",
    "    print(\"R$\", round(divida_com_juros, 2), end=\"            \")\n",
    "    print(round(valor_juros, 2), end=\"                  \")\n",
    "    print(parcela, end=\"                        \")\n",
    "    print(\"R$ \", round(valor_parcela, 2))\n",
    "    parcela += 3"
   ]
  },
  {
   "cell_type": "markdown",
   "metadata": {},
   "source": [
    "25 Faça um programa que mostre os n termos da Série a seguir:<br>\n",
    "S = 1/1 + 2/3 + 3/5 + 4/7 + 5/9 + ... + n/m.<br>\n",
    "Imprima no final a soma da série."
   ]
  },
  {
   "cell_type": "code",
   "execution_count": 1,
   "metadata": {},
   "outputs": [
    {
     "name": "stdout",
     "output_type": "stream",
     "text": [
      "S = 1 / 1  + 2 / 3  + 3 / 5  + 4 / 7  + 5 / 9  + 6 / 11  + 7 / 13  + 8 / 15  + 9 / 17  + 10 / 19  =  45 / 81\n"
     ]
    }
   ],
   "source": [
    "#Ex25\n",
    "\n",
    "n1 = 1\n",
    "n2 = 1\n",
    "n1_lista = []\n",
    "n2_lista = []\n",
    "print(\"S = \", end = \"\")\n",
    "while n1 <= 10 -1:\n",
    "    print(n1, \"/\", n2, \" + \", end=\"\")\n",
    "    n1_lista.append(n1)\n",
    "    n2_lista.append(n2)\n",
    "    n1 += 1\n",
    "    n2 += 2\n",
    "\n",
    "print(n1, \"/\", n2, \" = \", sum(n1_lista), \"/\", sum(n2_lista))"
   ]
  }
 ],
 "metadata": {
  "kernelspec": {
   "display_name": "Python 3",
   "language": "python",
   "name": "python3"
  },
  "language_info": {
   "codemirror_mode": {
    "name": "ipython",
    "version": 3
   },
   "file_extension": ".py",
   "mimetype": "text/x-python",
   "name": "python",
   "nbconvert_exporter": "python",
   "pygments_lexer": "ipython3",
   "version": "3.7.3"
  }
 },
 "nbformat": 4,
 "nbformat_minor": 2
}
