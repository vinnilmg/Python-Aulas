{
 "cells": [
  {
   "cell_type": "markdown",
   "metadata": {},
   "source": [
    "# Exercício 11\n",
    "#### Nome: Vinicius de Lima Gomes\n",
    "#### RA: 817125437\n",
    "\n",
    "### Métodos \n",
    "1 Menor de dois pares: Escreva uma função que retorne o menor de dois números dados se ambos os números forem pares, mas retorna o maior se um dos dois for ímpar. \n",
    "<br>Exemplo: <br>menor_de_dois_pares(2,4) --> 2 <br>menor_de_dois_pares (2,5) --> 5 "
   ]
  },
  {
   "cell_type": "code",
   "execution_count": 15,
   "metadata": {},
   "outputs": [
    {
     "name": "stdout",
     "output_type": "stream",
     "text": [
      "O menor entre (0,4) é 0\n",
      "O maior entre (7,5) é 7\n"
     ]
    }
   ],
   "source": [
    "def maior_menor(x,y):\n",
    "    if x %2 == 0 and y %2 ==0:\n",
    "        menor = 0\n",
    "        if x < y:\n",
    "            menor = x\n",
    "        else:\n",
    "            menor = y\n",
    "        return print(f\"O menor entre ({x},{y}) é {menor}\")\n",
    "    else:\n",
    "        maior = 0\n",
    "        if x > y:\n",
    "            maior = x\n",
    "        else:\n",
    "            maior = y\n",
    "        return print(f\"O maior entre ({x},{y}) é {maior}\")\n",
    "    \n",
    "maior_menor(0,4)\n",
    "maior_menor(7,5)"
   ]
  },
  {
   "cell_type": "markdown",
   "metadata": {},
   "source": [
    "2 Mesma letra: Escreva uma função que receba uma string com duas palavras e retorne True se ambas palavras começarem com a mesma letra. \n",
    "<br>Exemplo:<br> mesma_letra('Cão covarde') -> True \n",
    "<br>mesma_letra('Vira Lata') -> False"
   ]
  },
  {
   "cell_type": "code",
   "execution_count": 30,
   "metadata": {},
   "outputs": [
    {
     "name": "stdout",
     "output_type": "stream",
     "text": [
      "Palavras: Cão e Covarde, Situação: True\n",
      "Palavras: Vira e lata, Situação: False\n"
     ]
    }
   ],
   "source": [
    "def mesma_letra(palavra):\n",
    "    palavras = palavra.split(\" \")\n",
    "    palavra1 = palavras[0]\n",
    "    palavra2 = palavras[1]\n",
    "    sit = False\n",
    "    \n",
    "    if palavra1[0] == palavra2[0]:\n",
    "        sit = True\n",
    "    return print (f\"Palavras: {palavra1} e {palavra2}, Situação: {sit}\")\n",
    "       \n",
    "mesma_letra('Cão Covarde')\n",
    "mesma_letra('Vira lata')"
   ]
  },
  {
   "cell_type": "markdown",
   "metadata": {},
   "source": [
    "3 Mestre Yoda: Dada uma sentença, a função deve retornar a sentença com as palavras na ordem reversa. \n",
    "<br>Exemplo: <br>mestre_yoda('Eu estou em casa') --> 'casa em estou Eu' <br>mestre_yoda('Estamos prontos') --> 'prontos Estamos' "
   ]
  },
  {
   "cell_type": "code",
   "execution_count": 45,
   "metadata": {},
   "outputs": [
    {
     "name": "stdout",
     "output_type": "stream",
     "text": [
      "Mestre Yoda: casa em estou Eu\n",
      "Mestre Yoda: prontos Estamos\n"
     ]
    }
   ],
   "source": [
    "def mestre_yoda(sentenca):\n",
    "    \n",
    "    palavras = sentenca.split(\" \")\n",
    "    invertido = palavras[::-1]\n",
    "    t = \" \".join(invertido)\n",
    "    return print(f\"Mestre Yoda: {t}\")\n",
    "\n",
    "mestre_yoda('Eu estou em casa')\n",
    "mestre_yoda('Estamos prontos')"
   ]
  },
  {
   "cell_type": "markdown",
   "metadata": {},
   "source": [
    "4 Tem 33: Faça uma função que retorne True se, dada uma lista de inteiros, houver em alguma posição da lista um 3 do lado de outro 3.<br>Exemplo: <br>\n",
    " tem_33([1,3,3]) --> True <br>tem_33([1,3,1,3]) --> False <br>tem_33([3,1,3]) --> False \n",
    " "
   ]
  },
  {
   "cell_type": "code",
   "execution_count": 56,
   "metadata": {},
   "outputs": [
    {
     "name": "stdout",
     "output_type": "stream",
     "text": [
      "True\n",
      "False\n",
      "False\n",
      "True\n"
     ]
    }
   ],
   "source": [
    "def tem_33(lista):\n",
    "    tem_33 = False\n",
    "    tam_lista = len(lista)\n",
    "    for i in lista:\n",
    "        if i < tam_lista-1:\n",
    "            if lista[i] == 3 and lista[i+1] ==3:\n",
    "                tem_33 = True \n",
    "        return print(tem_33)\n",
    "    \n",
    "tem_33([1,3,3])\n",
    "tem_33([1,3,1,3])\n",
    "tem_33([3,1,3])\n",
    "tem_33([3,3,3,3,3])"
   ]
  },
  {
   "cell_type": "markdown",
   "metadata": {},
   "source": [
    "5 Blackjack: Faça uma função que receba 3 inteiros entre 1 e 11. Se a soma deles for menor que 21, retorne o valor da soma. Se for mair do que 21 e houver um 11, subtraia 10 da soma antes de apresentar o resultado. Se o valor da soma passar de 21, retorne ‘ESTOUROU’. <br>Exemplo:<br>\n",
    " blackjack(5,6,7) --> 18 <br>blackjack(9,9,9) --> 'ESTOUROU' <br>blackjack(9,9,11) --> 19 \n",
    " "
   ]
  },
  {
   "cell_type": "code",
   "execution_count": 58,
   "metadata": {},
   "outputs": [
    {
     "name": "stdout",
     "output_type": "stream",
     "text": [
      "18\n",
      "ESTOUROU\n",
      "19\n"
     ]
    }
   ],
   "source": [
    "def blackjack(int1, int2, int3):\n",
    "    soma = int1 + int2 + int3\n",
    "    if soma < 21:\n",
    "        return print(soma)\n",
    "    elif soma > 21:\n",
    "        if int1 == 11 or int2 == 11 or int3 == 11:\n",
    "            soma = soma-10\n",
    "            return print(soma)\n",
    "        else:\n",
    "            return print(\"ESTOUROU\")\n",
    "blackjack(5,6,7)\n",
    "blackjack(9,9,9)\n",
    "blackjack(9,9,11)  "
   ]
  },
  {
   "cell_type": "markdown",
   "metadata": {},
   "source": [
    "6 Espião: Escreva uma função que receba uma lista de inteiros e retorne True se contém um 007 em ordem, mesmo que não contínuo. <br>Exemplo: <br>\n",
    " espiao([1,2,4,0,0,7,5]) --> True <br>espiao([1,0,2,4,0,5,7]) --> True <br>\n",
    "espiao([1,7,2,4,0,5,0]) --> False"
   ]
  },
  {
   "cell_type": "code",
   "execution_count": 59,
   "metadata": {},
   "outputs": [
    {
     "name": "stdout",
     "output_type": "stream",
     "text": [
      "True\n",
      "True\n",
      "False\n"
     ]
    }
   ],
   "source": [
    "def espiao(lista):\n",
    "    chave = [0,0,7]\n",
    "    ret = [False, False, False]\n",
    "    k = 0\n",
    "    for i in lista:\n",
    "        if i == chave[k]:\n",
    "            ret[k] = True\n",
    "            k += 1\n",
    "            if k >= len(chave):\n",
    "                break\n",
    "    return ret[0] and ret[1] and ret[2]\n",
    "\n",
    "print(espiao([1,2,4,0,0,7,5]))\n",
    "print(espiao([1,0,2,4,0,5,7]))\n",
    "print(espiao([1,7,2,4,0,5,0]))"
   ]
  },
  {
   "cell_type": "markdown",
   "metadata": {},
   "source": [
    "### Orientação a Objetos \n",
    " \n",
    "7 Linha: Crie a classe Linha que tem dois atributos, coordenada1 e coordenada2. Cada coordenada é uma tupla que carrega duas coordenadas cartesianas (x,y) que denotam pontos do segmento de reta. Faça métodos que calculem o comprimento do segmento de reta e sua inclinação. "
   ]
  },
  {
   "cell_type": "code",
   "execution_count": 74,
   "metadata": {},
   "outputs": [
    {
     "name": "stdout",
     "output_type": "stream",
     "text": [
      "O comprimento é de tamanho: 3.16  \n",
      "A inclinacao é de tamanho:  0.3333333333333333\n"
     ]
    }
   ],
   "source": [
    "import math\n",
    "class Linha:\n",
    "    def __init__(self,coor1,coor2):\n",
    "        self.coor1 = coor1\n",
    "        self.coor2 = coor2\n",
    "\n",
    "    def calcularComprimento(self,coor1,coor2):\n",
    "        a,b = coor1\n",
    "        c,d = coor2\n",
    "        return math.sqrt(((b - a)**2) + ((d - c)**2))\n",
    "    \n",
    "    def calcularInclinacao(self,coor1,coor2):\n",
    "        a,b = coor1\n",
    "        c,d = coor2\n",
    "        return ((d - c)/(b - a))\n",
    "    \n",
    "t1=(5,8)\n",
    "t2=(6,7)\n",
    "l = Linha(t1,t2)\n",
    "\n",
    "print(\"O comprimento é de tamanho: %.2f  \" %(l.calcularComprimento(t1,t2)))\n",
    "print(\"A inclinacao é de tamanho:  \" + str(l.calcularInclinacao(t1,t2)))"
   ]
  },
  {
   "cell_type": "markdown",
   "metadata": {},
   "source": [
    "8 Figuras: Crie a seguinte hierarquia de classes de figuras geométricas. Veja na figura as fórmulas:  <br>a. A classe abstrata Figura deve ter o método abstrato area.  <br>b. A classe concreta Circulo é subclasse de Figura.  <br>c. A classe abstrata Poligono é subclasse de Figura e deve ter os atributos base e altura .  <br>d. As classes concretas Triangulo, Losango, Retangulo e Quadrado são subclasses de Poligono. Tente criar mais uma generalização aqui olhando as fórmulas da área.  <br>e. Os polígonos Retangulo e Quadrado devem implementar a interface Diagonal, que deve ter um método que calcula a diagonal.  <br>f. Crie uma classe Geometria com uma lista de Figuras com pelo menos uma figura de cada e imprima suas áreas, perímetros e diagonais."
   ]
  },
  {
   "cell_type": "code",
   "execution_count": 73,
   "metadata": {},
   "outputs": [
    {
     "name": "stdout",
     "output_type": "stream",
     "text": [
      "<class '__main__.Circulo'>------------------------------------------------------------\n",
      "área: 28.27\n",
      "perímetro: 18.85\n",
      "<class '__main__.Quadrado'>------------------------------------------------------------\n",
      "área: 4.00\n",
      "perímetro: 8.00\n",
      "diagonal: 2.83\n",
      "<class '__main__.Retangulo'>------------------------------------------------------------\n",
      "área: 6.00\n",
      "perímetro: 10.00\n",
      "diagonal: 3.61\n",
      "<class '__main__.Triangulo'>------------------------------------------------------------\n",
      "área: 2.90\n",
      "perímetro: 9.00\n",
      "<class '__main__.Losango'>------------------------------------------------------------\n",
      "área: 6.00\n",
      "perímetro: 10.00\n"
     ]
    }
   ],
   "source": [
    "class Figura:\n",
    "    def area(self):\n",
    "        raise NotImplementedError(\n",
    "            \"A subclasse deve implementar o método abstrato\")\n",
    "    def perimetro(self):\n",
    "        raise NotImplementedError(\n",
    "            \"A subclasse deve implementar o método abstrato\")\n",
    "        \n",
    "from math import pi\n",
    "class Circulo(Figura):\n",
    "    def __init__(self, raio):\n",
    "        self.raio = raio\n",
    "    def area(self):\n",
    "        return self.raio**2 * pi\n",
    "    \n",
    "    def perimetro(self):\n",
    "        return 2*pi*self.raio\n",
    "\n",
    "from math import sqrt\n",
    "\n",
    "class Poligono(Figura):\n",
    "    def __init__(self,base,altura):\n",
    "        self._base=base\n",
    "        self._altura=altura\n",
    "        \n",
    "    def area(self):\n",
    "        return self._base * self._altura\n",
    "\n",
    "\n",
    "class Diagonal:\n",
    "    def __init__(self,base,altura):\n",
    "        self._base=base\n",
    "        self._altura=altura\n",
    "        \n",
    "    def diagonal(self):\n",
    "        return sqrt(self._base**2 + self._altura**2)\n",
    "    \n",
    "class Quadrilatero(Figura):\n",
    "    def __init__(self,base,altura):\n",
    "        self._base=base\n",
    "        self._altura=altura\n",
    "        \n",
    "    def perimetro(self):\n",
    "        return (self._base*2 + self._altura*2)\n",
    "        \n",
    "\n",
    "class Quadrado(Poligono,Diagonal,Quadrilatero):\n",
    "    def __init__(self,lado):\n",
    "        Poligono.__init__(self,lado,lado)\n",
    "        Diagonal.__init__(self,lado,lado)\n",
    "        Quadrilatero.__init__(self,lado,lado)\n",
    "    \n",
    "class Retangulo(Poligono,Diagonal,Quadrilatero):\n",
    "    def __init__(self,base,altura):\n",
    "        Poligono.__init__(self,base,altura)\n",
    "        Diagonal.__init__(self,base,altura)\n",
    "        Quadrilatero.__init__(self,base,altura)\n",
    "        \n",
    "class Losango(Poligono,Quadrilatero):\n",
    "    def __init__(self,base,altura):\n",
    "        Poligono.__init__(self,base,altura)\n",
    "        Quadrilatero.__init__(self,base,altura)\n",
    "\n",
    "\n",
    "class Triangulo(Figura):\n",
    "    def __init__(self,lado1,lado2,lado3):\n",
    "        if lado1>=lado2+lado3 or lado2>=lado1+lado3 or lado3>=lado1+lado2:\n",
    "            raise Eception(\"Não é um triângulo\")\n",
    "            \n",
    "        self._lado1 = lado1\n",
    "        self._lado2 = lado2\n",
    "        self._lado3 = lado3\n",
    "    \n",
    "    def perimetro(self):\n",
    "        return self._lado1 + self._lado2 + self._lado3\n",
    "    \n",
    "    def area(self):\n",
    "        s = self.perimetro()/2\n",
    "        return sqrt(s*(s-self._lado1)*(s-self._lado2)*(s-self._lado3))\n",
    "    \n",
    "class Geometria:\n",
    "    pass\n",
    "\n",
    "figuras = [Circulo(3), Quadrado(2), Retangulo(2,3), Triangulo(2,3,4), Losango(3,2)]\n",
    "for figura in figuras:\n",
    "    print(str(type(figura))+'-'*60)\n",
    "    # todo mundo sabe calcular area e perimetro\n",
    "    print('área: %.2f' % (figura.area()))\n",
    "    print('perímetro: %.2f' % (figura.perimetro()))\n",
    "    if isinstance(figura,Diagonal):\n",
    "        print('diagonal: %.2f' % (figura.diagonal()))"
   ]
  },
  {
   "cell_type": "markdown",
   "metadata": {},
   "source": [
    "9 Jogo de Blacjack: Faça um joguinho simples em Python. \n",
    " \n",
    "Aqui estão os requisitos: \n",
    "- Você precisa criar um jogo de BlackJack (21) baseado em texto simples \n",
    "- O jogo precisa ter um jogador contra um croupier automatizado. \n",
    "- O jogador pode desistir ou bater. \n",
    "- O jogador deve ser capaz de escolher o seu valor de aposta. \n",
    "- Você precisa acompanhar o dinheiro total do jogador. \n",
    "- Você precisa alertar o jogador de vitórias, derrotas ou estouros, etc ... \n",
    " \n",
    "E o mais importante: \n",
    " \n",
    "Você deve usar OOP e classes em alguma parte do seu jogo. Você não pode simplesmente usar funções no seu jogo. Use classes para ajudá-lo a definir o deck e a mão do jogador. Há muitas maneiras certas de fazer isso, então explore bem! \n",
    " \n",
    "Regras do Jogo: https://en.wikipedia.org/wiki/Blackjack https://pt.wikipedia.org/wiki/Blackjack \n",
    " \n",
    " "
   ]
  },
  {
   "cell_type": "code",
   "execution_count": 76,
   "metadata": {},
   "outputs": [],
   "source": [
    "import random\n",
    "\n",
    "class carta:\n",
    "    manilha =\"\"\n",
    "    valor=0\n",
    "    index=0\n",
    "    def __init__(self,manilha,valor,index):\n",
    "        self.manilha = manilha\n",
    "        self.valor = valor\n",
    "        self.index= index\n",
    "\n",
    "    def __str__(self):\n",
    "        return f\"manilha {self.manilha} : valor {self.valor}\"\n",
    "\n",
    "def card_deck():\n",
    "    card_value = ['A','2','3','4','5','6','7','8','9','10','J','Q','K']\n",
    "    card_type = ['Copas','Espadas','Paus','Ouros']\n",
    "    deck = []\n",
    "    k  = 0\n",
    "    for i in card_type:\n",
    "        for j in card_value:\n",
    "            k+=1\n",
    "            cartas = carta(i,j,k)\n",
    "            deck.append(cartas)\n",
    "    return deck\n",
    "\n",
    "def carta_valor(carta,rodada):\n",
    "    if((carta.valor =='10')or (carta.valor =='J')or(carta.valor =='Q')or(carta.valor =='K')):\n",
    "        return 10\n",
    "    elif(carta.valor=='A'):\n",
    "        if(rodada==1):\n",
    "            return 11\n",
    "        else:\n",
    "            return 1\n",
    "    else:\n",
    "        return int(carta.valor)\n",
    "\n",
    "def cartas_ini(deck):\n",
    "    return  random.sample(deck,2)\n",
    "\n",
    "def carta_add(deck):\n",
    "    carta= random.sample(deck,1)\n",
    "    remove_from_deck(carta[0],deck)\n",
    "    print(carta)\n",
    "    return carta[0]\n",
    "\n",
    "def mao_atual(mao,soma):\n",
    "    for carta in mao:\n",
    "        print(carta)\n",
    "    print(f\"Soma Cartas: {soma}\")\n",
    "\n",
    "def remove_from_deck(carta,deck):\n",
    "    deck.pop(int(carta.index))\n",
    "    \n",
    "def partida():\n",
    "    deck = card_deck()\n",
    "    print(len(deck))\n",
    "    mao = cartas_ini(deck)\n",
    "    soma =  0\n",
    "    rodada = 1\n",
    "    while soma<21:\n",
    "        if rodada ==1:\n",
    "            for cartas in mao:\n",
    "                remove_from_deck(cartas,deck)\n",
    "                soma+= carta_valor(cartas,1)\n",
    "                print(soma)\n",
    "        else:\n",
    "            cont = input(\"Quer mais uma ?(S/N)\\n\")\n",
    "            if cont.upper() ==\"S\":\n",
    "                carta =carta_add(deck)\n",
    "                mao.append(carta)\n",
    "                soma+= carta_valor(carta,2)\n",
    "\n",
    "                pass\n",
    "            else:\n",
    "                break\n",
    "                \n",
    "        mao_atual(mao,soma)\n",
    "\n",
    "        rodada+=1\n",
    "\n",
    "    if soma==21:\n",
    "        print(\"Ganhou!\")\n",
    "    elif soma>21:\n",
    "        print(\"Perdeu\")\n",
    "    else:\n",
    "        print(\"Você desistiu!\")"
   ]
  }
 ],
 "metadata": {
  "kernelspec": {
   "display_name": "Python 3",
   "language": "python",
   "name": "python3"
  },
  "language_info": {
   "codemirror_mode": {
    "name": "ipython",
    "version": 3
   },
   "file_extension": ".py",
   "mimetype": "text/x-python",
   "name": "python",
   "nbconvert_exporter": "python",
   "pygments_lexer": "ipython3",
   "version": "3.7.3"
  }
 },
 "nbformat": 4,
 "nbformat_minor": 2
}
