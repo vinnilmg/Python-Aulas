{
 "cells": [
  {
   "cell_type": "markdown",
   "metadata": {},
   "source": [
    "## Exercício 14\n",
    "#### Nome: Vinicius de Lima Gomes\n",
    "#### RA: 817125437"
   ]
  },
  {
   "cell_type": "markdown",
   "metadata": {},
   "source": [
    "1) Defina a função soma_nat que recebe como argumento um número natural n e devolve a soma de todos os números naturais até n.\n",
    "\n",
    "Ex: soma_nat(5) = 15"
   ]
  },
  {
   "cell_type": "code",
   "execution_count": 11,
   "metadata": {},
   "outputs": [
    {
     "data": {
      "text/plain": [
       "TypeError(\"unsupported operand type(s) for +: 'int' and 'TypeError'\")"
      ]
     },
     "execution_count": 11,
     "metadata": {},
     "output_type": "execute_result"
    }
   ],
   "source": [
    "def maybe(fnc):\n",
    "    def inner(*args):\n",
    "        for a in args:\n",
    "            if isinstance(a, Exception): \n",
    "                return a\n",
    "        try:\n",
    "            return fnc(*args)\n",
    "        except Exception as e:\n",
    "            return e\n",
    "    return inner\n",
    "\n",
    "soma_nat = maybe(lambda n : 1 if n == 1 else n + soma_nat(n - 1))\n",
    "\n",
    "assert(soma_nat(5) == 15)\n",
    "soma_nat(-1)\n"
   ]
  },
  {
   "cell_type": "markdown",
   "metadata": {},
   "source": [
    "2) Defina a função div que recebe como argumentos dois números naturais m e n e devolve o resultado da divisão inteira de m por n. Neste exercício você não pode recorrer às operações aritméticas de multiplicação, divisão e resto da divisão inteira.\n",
    "\n",
    "Ex: div(7,2) = 3"
   ]
  },
  {
   "cell_type": "code",
   "execution_count": 12,
   "metadata": {},
   "outputs": [],
   "source": [
    "safe_div = maybe(lambda m,n:0 if m < n else 1 + safe_div(m-n,n))\n",
    "\n",
    "assert(safe_div(7,2)==3)\n"
   ]
  },
  {
   "cell_type": "markdown",
   "metadata": {},
   "source": [
    "3) Defina a função prim_alg que recebe como argumento um número natural e devolve o primeiro algarismo (o mais significativo) na representação decimal de n.\n",
    "\n",
    "Ex: prim_alg(5649) = 5 \n",
    "Ex: prim_alg(7) = 7"
   ]
  },
  {
   "cell_type": "code",
   "execution_count": 10,
   "metadata": {},
   "outputs": [
    {
     "data": {
      "text/plain": [
       "ValueError(\"invalid literal for int() with base 10: 'j'\")"
      ]
     },
     "execution_count": 10,
     "metadata": {},
     "output_type": "execute_result"
    }
   ],
   "source": [
    "safe_prim_alg = maybe(lambda arg: int(str(arg)[0]))\n",
    "assert(safe_prim_alg(154228)==1)\n",
    "assert(safe_prim_alg(5649) == 5) \n",
    "assert(safe_prim_alg(7) == 7)\n",
    "safe_prim_alg('jcagslukc')"
   ]
  },
  {
   "cell_type": "markdown",
   "metadata": {},
   "source": [
    "4) Defina a função prod_lista que recebe como argumento uma lista de inteiros e devolve o produto dos seus elementos. \n",
    "Ex: prod_lista([1,2,3,4,5,6]) = 720"
   ]
  },
  {
   "cell_type": "code",
   "execution_count": 13,
   "metadata": {},
   "outputs": [
    {
     "data": {
      "text/plain": [
       "TypeError(\"unsupported operand type(s) for *: 'int' and 'TypeError'\")"
      ]
     },
     "execution_count": 13,
     "metadata": {},
     "output_type": "execute_result"
    }
   ],
   "source": [
    "safe_prod_lista = maybe(lambda lista: lista[len(lista) - 1] * safe_prod_lista(lista[:-1]) if len(lista)> 0 else 1)\n",
    "assert(safe_prod_lista([1,2,3,4,5,6]) == 720)\n",
    "safe_prod_lista(['43',13,'a',35])"
   ]
  },
  {
   "cell_type": "markdown",
   "metadata": {},
   "source": [
    "5) Defina a função contem_parQ que recebe como argumento uma lista de números inteiros w e devolve True se w contém um número par e False em caso contrário."
   ]
  },
  {
   "cell_type": "code",
   "execution_count": 14,
   "metadata": {},
   "outputs": [
    {
     "data": {
      "text/plain": [
       "TypeError('not all arguments converted during string formatting')"
      ]
     },
     "execution_count": 14,
     "metadata": {},
     "output_type": "execute_result"
    }
   ],
   "source": [
    "safe_parQ = maybe(lambda w: False if len(w) == 0 else True if w.pop()%2==0 else safe_parQ(w))\n",
    "assert(safe_parQ([1,3,5,7]) == False )\n",
    "assert(safe_parQ([2,3,1,2,3,4]) == True)  \n",
    "safe_parQ(['a',1,-1])"
   ]
  },
  {
   "cell_type": "markdown",
   "metadata": {},
   "source": [
    "6) Defina a função todos_imparesQ que recebe como argumento uma lista de números inteiros w e devolve True se w contém apenas números ímpares e False em caso contrário.\n",
    "\n",
    "Ex: todos_imparesQ([1,3,5,7]) = True Ex: todos_imparesQ([]) = True Ex: todos_imparesQ([1,2,3,4,5]) = False"
   ]
  },
  {
   "cell_type": "code",
   "execution_count": 16,
   "metadata": {},
   "outputs": [
    {
     "data": {
      "text/plain": [
       "TypeError('not all arguments converted during string formatting')"
      ]
     },
     "execution_count": 16,
     "metadata": {},
     "output_type": "execute_result"
    }
   ],
   "source": [
    "safe_imparesQ = maybe( lambda w: True if len(w)==0 else False if w.pop()%2==0 else safe_imparesQ(w))\n",
    "\n",
    "assert(safe_imparesQ([1,3,5,7]) == True )\n",
    "assert(safe_imparesQ([]) == True) \n",
    "assert(safe_imparesQ([1,2,3,4,5]) == False)\n",
    "\n",
    "safe_imparesQ(['a',1,'-1'])"
   ]
  },
  {
   "cell_type": "markdown",
   "metadata": {},
   "source": [
    "7) Defina a função pertenceQ que recebe como argumentos uma lista de números inteiros w e um número inteiro n e devolve True se n ocorre em w e False em caso contrário.\n",
    "\n",
    "Ex: pertenceQ([1,2,3],1) = True \n",
    "Ex: pertenceQ([1,2,3],2) = True \n",
    "Ex: pertenceQ([1,2,3],3) = True \n",
    "Ex: pertenceQ([1,2,3],4) = False"
   ]
  },
  {
   "cell_type": "code",
   "execution_count": 18,
   "metadata": {},
   "outputs": [
    {
     "data": {
      "text/plain": [
       "True"
      ]
     },
     "execution_count": 18,
     "metadata": {},
     "output_type": "execute_result"
    }
   ],
   "source": [
    "safe_pertenceQ = maybe( lambda w,n: True if n in w else False )\n",
    "\n",
    "assert(safe_pertenceQ([1,2,3],1) == True)\n",
    "assert(safe_pertenceQ([1,2,3],4) == False)\n",
    "\n",
    "safe_pertenceQ([2,-1,[2]],[2])"
   ]
  },
  {
   "cell_type": "markdown",
   "metadata": {},
   "source": [
    "8) Defina a função junta que recebe como argumentos duas listas de números inteiros w1 e w2 e devolve a concatenação de w1 com w2 .\n",
    "\n",
    "Ex: junta([1,2,3],[4,5,6]) = [1, 2, 3, 4, 5, 6] \n",
    "Ex: junta([],[4,5,6]) = [4, 5, 6] \n",
    "Ex: junta([1,2,3],[]) = [1, 2, 3]"
   ]
  },
  {
   "cell_type": "code",
   "execution_count": 19,
   "metadata": {},
   "outputs": [],
   "source": [
    "safe_junta_sep= maybe(lambda v,w:[v.append(q) for q in w])\n",
    "safe_junta = maybe(lambda v,w: w if len(v)==0 else v if len(w)==0 else v if len(safe_junta_sep(v,w))== len(w) else v)\n",
    "assert(safe_junta([1,2,3],[4,5,6]) == [1, 2, 3, 4, 5, 6]) \n",
    "assert(safe_junta([],[4,5,6]) == [4, 5, 6] )\n",
    "assert(safe_junta([1,2,3],[]) == [1, 2, 3])"
   ]
  },
  {
   "cell_type": "markdown",
   "metadata": {},
   "source": [
    "\n",
    "9) Defina a função temPrimoQ que recebe como argumento uma lista de listas de números inteiros w e devolve True se alguma das sublistas w tem um número primo e False em caso contrário.\n",
    "\n",
    "Ex: temPrimoQ([[4,4,4,4],[5,4,6,7],[2,4,3]]) = True \n",
    "Ex: temPrimoQ([[4,4,4,4],[4,4,4],[],[4]]) = False"
   ]
  },
  {
   "cell_type": "code",
   "execution_count": 20,
   "metadata": {},
   "outputs": [],
   "source": [
    "safe_primo = maybe(lambda n: len([i for i in range(2,n) if n%i==0])==0 )\n",
    "safe_extrai_lista = maybe(lambda w: None if len(w)==0 else w.pop())\n",
    "safe_lista_primo = maybe(lambda v: False if v == None or len(v)==0 else True if safe_primo(v.pop()) else safe_lista_primo(v))\n",
    "safe_temPrimoQ = maybe(lambda w: True if safe_lista_primo(safe_extrai_lista(w)) else False if len(w) == 0 else safe_temPrimoQ(w))\n",
    "\n",
    "assert(safe_temPrimoQ([[4,4,4,4],[5,4,6,7],[2,4,3]]) == True)\n",
    "assert(safe_temPrimoQ([[4,4,4,4],[4,4,4],[],[4]]) == False)"
   ]
  },
  {
   "cell_type": "markdown",
   "metadata": {},
   "source": [
    "10) Defina a função inverteLista que recebe como argumento uma lista w e devolve a mesma lista mas invertida.\n",
    "\n",
    "Ex: inverteLista([1,2,3,4,5]) = [5, 4, 3, 2, 1] \n",
    "Ex: inverteLista([])"
   ]
  },
  {
   "cell_type": "code",
   "execution_count": 22,
   "metadata": {},
   "outputs": [
    {
     "data": {
      "text/plain": [
       "['amanda', 34, 45, 98]"
      ]
     },
     "execution_count": 22,
     "metadata": {},
     "output_type": "execute_result"
    }
   ],
   "source": [
    "safe_inverte_lista = maybe(lambda w: w[::-1])\n",
    "assert(safe_inverte_lista([1,2,3,4,5])== [5, 4, 3, 2, 1])\n",
    "\n",
    "safe_inverte_lista([98,45,34,'amanda'])\n"
   ]
  }
 ],
 "metadata": {
  "kernelspec": {
   "display_name": "Python 3",
   "language": "python",
   "name": "python3"
  },
  "language_info": {
   "codemirror_mode": {
    "name": "ipython",
    "version": 3
   },
   "file_extension": ".py",
   "mimetype": "text/x-python",
   "name": "python",
   "nbconvert_exporter": "python",
   "pygments_lexer": "ipython3",
   "version": "3.7.3"
  }
 },
 "nbformat": 4,
 "nbformat_minor": 2
}
