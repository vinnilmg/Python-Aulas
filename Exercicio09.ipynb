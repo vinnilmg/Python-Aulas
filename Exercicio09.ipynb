{
 "cells": [
  {
   "cell_type": "markdown",
   "metadata": {},
   "source": [
    "# Exercício 09\n",
    "#### Nome: Vinicius de Lima Gomes\n",
    "#### RA: 817125437\n",
    "\n",
    "### Números e Operações Aritméticas\n",
    "1 Faça um Programa que peça o raio de um círculo, calcule e mostre sua área"
   ]
  },
  {
   "cell_type": "code",
   "execution_count": null,
   "metadata": {},
   "outputs": [],
   "source": [
    "#Ex01\n",
    "raio = float (input (\"Informe o raio do circulo \"))\n",
    "pi = 3.14\n",
    "\n",
    "area = pi * raio**2\n",
    "\n",
    "print(f\"Area do circulo {area}\")"
   ]
  },
  {
   "cell_type": "markdown",
   "metadata": {},
   "source": [
    "2 Faça um Programa que calcule a área de um quadrado, em seguida mostre o dobro desta área para o usuário."
   ]
  },
  {
   "cell_type": "code",
   "execution_count": null,
   "metadata": {},
   "outputs": [],
   "source": [
    "#Ex02\n",
    "\n",
    "base = float (input (\"Informe a Base \"))\n",
    "altura = float (input (\"Informe a Altura \"))\n",
    "area = base*altura\n",
    "\n",
    "dobro_area = area*2\n",
    "print (f\"Area: {area}\\nDobro da area: {dobro_area}\")"
   ]
  },
  {
   "cell_type": "markdown",
   "metadata": {},
   "source": [
    "3 Faça um Programa que pergunte quanto você ganha por hora e o número de horas trabalhadas no mês. Calcule e mostre o total do seu salário no referido mês."
   ]
  },
  {
   "cell_type": "code",
   "execution_count": null,
   "metadata": {},
   "outputs": [],
   "source": [
    "#Ex03\n",
    "\n",
    "ganho =  float (input (\"Informe quanto voce ganha por hora em R$ \"))\n",
    "horas_trabalhadas = float (input (\"Informe o numero de horas trabalhadas por mês \"))\n",
    "\n",
    "print (f\"Seu salário: R$ {salario:.2f}\")"
   ]
  },
  {
   "cell_type": "markdown",
   "metadata": {},
   "source": [
    "4 Faça um Programa que peça a temperatura em graus Farenheit, transforme e mostre a temperatura em graus Celsius. C = (5 * (F-32) / 9)."
   ]
  },
  {
   "cell_type": "code",
   "execution_count": null,
   "metadata": {},
   "outputs": [],
   "source": [
    "#Ex04\n",
    "\n",
    "temp_far = float ( input (\"Informe a temperatura em Farenheit(°F) \"))\n",
    "temp_celsius = (5 * (temp_far - 32) /9)\n",
    "\n",
    "print (f\"Temperatura em °C: {temp_celsius:.2f}°C\")\n",
    "\n"
   ]
  },
  {
   "cell_type": "markdown",
   "metadata": {},
   "source": [
    "5 Faça um Programa que peça a temperatura em graus Celsius, transforme e mostre em graus Farenheit.\n"
   ]
  },
  {
   "cell_type": "code",
   "execution_count": null,
   "metadata": {},
   "outputs": [],
   "source": [
    "#Ex05\n",
    "\n",
    "temp_celsius = float ( input (\"Informe a temperatura em Celsius(°C) \"))\n",
    "temp_far = ((temp_celsius * 9) / 5) +32\n",
    "\n",
    "print(f\"Temperatura em °F: {temp_far:.2f}°F\")\n"
   ]
  },
  {
   "cell_type": "markdown",
   "metadata": {},
   "source": [
    "\n",
    "6 Faça um Programa que peça 2 números inteiros e um número real. Calcule e mostre:\n",
    "\n",
    "- o produto do dobro do primeiro com metade do segundo.\n",
    "\n",
    "- a soma do triplo do primeiro com o terceiro.\n",
    "\n",
    "- o terceiro elevado ao cubo."
   ]
  },
  {
   "cell_type": "code",
   "execution_count": null,
   "metadata": {},
   "outputs": [],
   "source": [
    "#Ex06\n",
    "\n",
    "num01 = int ( input(\"Digite 1° num (inteiro): \"))\n",
    "num02 = int ( input(\"Digite 2° num (inteiro): \"))\n",
    "num03 = float ( input(\"Digite 3° num: (float)\"))\n",
    "\n",
    "result01 = (num01*2) + (num02/2)\n",
    "result02 = (num01*3) + num03\n",
    "result03 = num03**3\n",
    "\n",
    "print(f\"\"\"\\nDobro do primeiro + metade do segundo: {result01:.2f} \n",
    "            \\nTriplo do primeiro + o terceiro: {result02:.2f} \n",
    "            \\nTerceiro elevado ao cubo: {result03:.2f}\"\"\")\n",
    "\n"
   ]
  },
  {
   "cell_type": "markdown",
   "metadata": {},
   "source": [
    "7 João Papo-de-Pescador, homem de bem, comprou um microcomputador para controlar o rendimento diário de seu trabalho. Toda vez que ele traz um peso de peixes maior que o estabelecido pelo regulamento de pesca do estado de São Paulo (50 quilos) deve pagar uma multa de R$ 4,00 por quilo excedente. João precisa que você faça um programa que leia a variável peso (peso de peixes) e verifique se há excesso. Se houver, gravar na variável excesso e na variável multa o valor da multa que João deverá pagar. Caso contrário mostrar tais variáveis com o conteúdo ZERO."
   ]
  },
  {
   "cell_type": "code",
   "execution_count": null,
   "metadata": {},
   "outputs": [],
   "source": [
    "#Ex07\n",
    "\n",
    "peso_peixe = float (input (\"Digite o peso do peixe: \"))\n",
    "peso_limite = 50.0\n",
    "multa = 0.0\n",
    "excesso = 0.0\n",
    "\n",
    "if peso_peixe > peso_limite:\n",
    "    excesso = peso_peixe - peso_limite\n",
    "    multa = excesso * 4.0\n",
    "    print(f\"Excesso: {excesso:.2f}kg \\nMulta: R${multa:.2f}\")\n",
    "else:\n",
    "     print(f\"Excesso: {excesso:.2f}kg \\nMulta: R${multa:.2f}\")"
   ]
  },
  {
   "cell_type": "markdown",
   "metadata": {},
   "source": [
    "\n",
    "8 Faça um Programa que pergunte quanto você ganha por hora e o número de horas trabalhadas no mês. Calcule e mostre o total do seu salário no referido mês, sabendo-se que são descontados 11% para o Imposto de Renda, 8% para o INSS e 5% para o sindicato, faça um programa que nos dê:\n",
    "\n",
    "- salário bruto.\n",
    "\n",
    "- quanto pagou ao INSS.\n",
    "\n",
    "- quanto pagou ao sindicato.\n",
    "\n",
    "- o salário líquido."
   ]
  },
  {
   "cell_type": "code",
   "execution_count": null,
   "metadata": {},
   "outputs": [],
   "source": [
    "#Ex08\n",
    "ganho_hora = float (input (\"Digite o valor que você ganha por hora: \"))\n",
    "hora_mes = float ( input (\"Digite a quantia de horas que voce trabalha por mês: \"))\n",
    "\n",
    "salario_bruto = ganho_hora * hora_mes\n",
    "imposto_renda = (salario_bruto * 11)/100\n",
    "inss = (salario_bruto * 8)/100\n",
    "sindicato = (salario_bruto * 5)/100\n",
    "\n",
    "descontos = imposto_renda + inss + sindicato\n",
    "salario_liquido = salario_bruto - descontos\n",
    "\n",
    "print(f\"Salário Bruto: R$ {salario_bruto:.2f} \\nIR: R$ {imposto_renda:.2f} \\nINSS: R$ {inss:.2f} \\nSindicato: R$ {sindicato:.2f} \\nSalário Líquido: R$ {salario_liquido:.2f}\")\n",
    "\n",
    "\n"
   ]
  },
  {
   "cell_type": "markdown",
   "metadata": {},
   "source": [
    "\n",
    "### STRINGS\n",
    "9 Faça um programa que leia 2 strings e informe o conteúdo delas seguido do seu comprimento. Informe também se as duas strings possuem o mesmo comprimento e são iguais ou diferentes no conteúdo. Exemplo: String 1: Brasil Hexa 2018 \n",
    "String 2: Brasil! Hexa 2018! \n",
    "Tamanho de \"Brasil Hexa 2018\": 16 caracteres \n",
    "Tamanho de \"Brasil! Hexa 2018!\": 18 caracteres \n",
    "As duas strings são de tamanhos diferentes. As duas strings possuem conteúdo diferente."
   ]
  },
  {
   "cell_type": "code",
   "execution_count": null,
   "metadata": {},
   "outputs": [],
   "source": [
    "#Ex09\n",
    "str01 = str (input (\"Digite alguma coisa: \"))\n",
    "str02 = str (input (\"Digite alguma coisa: \"))\n",
    "\n",
    "tamanho01 = len(str01)\n",
    "tamanho02 = len(str02)\n",
    "\n",
    "if str01 == str02:\n",
    "    print (f\"\"\"String 1: {str01} \\nString 2: {str02}\n",
    "            Tamanho de \"{str01}\": {tamanho01} caracteres\n",
    "            Tamanho de \"{str02}\": {tamanho02} caracteres\n",
    "            As duas strings são de tamanhos iguais.\n",
    "            As duas string possuem o mesmo conteúdo.\"\"\")\n",
    "else:\n",
    "    if tamanho01 == tamanho02:\n",
    "        print (f\"\"\"String 1: {str01} \\nString 2: {str02}\n",
    "            Tamanho de \"{str01}\": {tamanho01} caracteres\n",
    "            Tamanho de \"{str02}\": {tamanho02} caracteres\n",
    "            As duas strings são de tamanhos iguais.\n",
    "            As duas string possuem o conteúdo diferente.\"\"\")\n",
    "    else:\n",
    "        print (f\"\"\"String 1: {str01} \\nString 2: {str02}\n",
    "            Tamanho de \"{str01}\": {tamanho01} caracteres\n",
    "            Tamanho de \"{str02}\": {tamanho02} caracteres\n",
    "            As duas strings são de tamanhos diferentes.\n",
    "            As duas string possuem o conteúdo diferente.\"\"\")\n",
    "        \n"
   ]
  },
  {
   "cell_type": "markdown",
   "metadata": {},
   "source": [
    "\n",
    "10 Faça um programa que permita ao usuário digitar o seu nome e em seguida mostre o nome do usuário de trás para frente utilizando somente letras maiúsculas. Dica: lembre−se que ao informar o nome o usuário pode digitar letras maiúsculas ou minúsculas. Observação: não use loops."
   ]
  },
  {
   "cell_type": "code",
   "execution_count": null,
   "metadata": {},
   "outputs": [],
   "source": [
    "#Ex10\n",
    "\n",
    "nome = str (input (\"Digite seu nome: \"))\n",
    "nome_invertido = nome[::-1].upper()\n",
    "\n",
    "print(nome_invertido)"
   ]
  },
  {
   "cell_type": "markdown",
   "metadata": {},
   "source": [
    "11 Faça um programa que solicite a data de nascimento (dd/mm/aaaa) do usuário e imprima a data com o nome do mês por extenso.\n",
    "\n",
    "Data de Nascimento: 29/10/1973 Você nasceu em 29 de Outubro de 1973. \n",
    "\n",
    "Obs.: Não use desvio condicional nem loops."
   ]
  },
  {
   "cell_type": "code",
   "execution_count": null,
   "metadata": {},
   "outputs": [],
   "source": [
    "#Ex11\n",
    "\n",
    "meses = dict ([ \n",
    "    ('01','Janeiro'), ('02', 'Fevereiro'), ('03', 'Março'), ('04', 'Abril'), ('05', 'Maio'), ('06', 'Junho'),\n",
    "    ('07', 'Julho'), ('08', 'Agosto'), ('09', 'Setembro'), ('10', 'Outubro'), ('11', 'Novembro'), ('12', 'Dezembro')\n",
    "])\n",
    "\n",
    "data_nasc = str (input (\"Digite sua data de nascimento(dd/mm/aaaa): \"))\n",
    "\n",
    "lista_data = data_nasc.split('/')\n",
    "print (f\"Você nasceu em {lista_data[0]} de {meses[lista_data[1]]} de {lista_data[2]}.\")\n",
    "         "
   ]
  },
  {
   "cell_type": "markdown",
   "metadata": {},
   "source": [
    "12 Leet é uma forma de se escrever o alfabeto latino usando outros símbolos em lugar das letras, como números por exemplo. A própria palavra leet admite muitas variações, como l33t ou 1337. O uso do leet reflete uma subcultura relacionada ao mundo dos jogos de computador e internet, sendo muito usada para confundir os iniciantes e afirmar-se como parte de um grupo. Pesquise sobre as principais formas de traduzir as letras. Depois, faça um programa que peça uma texto e transforme-o para a grafia leet speak. \n",
    "\n",
    "Desafio: não use loops nem desvios condicionais."
   ]
  },
  {
   "cell_type": "code",
   "execution_count": null,
   "metadata": {},
   "outputs": [],
   "source": [
    "#Ex12\n",
    "\n",
    "entrada01 = str ( input (\"Digite a palavra a ser traduzida: \"))\n",
    "entrada = entrada01.upper()\n",
    "entrada = entrada.replace('A', '4')\n",
    "entrada = entrada.replace('B', '8')\n",
    "entrada = entrada.replace('C', '[') \n",
    "entrada = entrada.replace('D', '|))')\n",
    "entrada = entrada.replace('E', '3')\n",
    "entrada = entrada.replace('F', '|=')\n",
    "entrada = entrada.replace('G', '6')\n",
    "entrada = entrada.replace('H', '#')\n",
    "entrada = entrada.replace('I', '1')\n",
    "entrada = entrada.replace('J', 'j')\n",
    "entrada = entrada.replace('K', 'X')\n",
    "entrada = entrada.replace('L', '1')\n",
    "entrada = entrada.replace('M', '^^')\n",
    "entrada = entrada.replace('N', '//')\n",
    "entrada = entrada.replace('O', '0')\n",
    "entrada = entrada.replace('P', '|^')\n",
    "entrada = entrada.replace('Q', 'q') \n",
    "entrada = entrada.replace('R', '|2')\n",
    "entrada = entrada.replace('S', '5') \n",
    "entrada = entrada.replace('T', '7')\n",
    "entrada = entrada.replace('U', '(_)')\n",
    "entrada = entrada.replace('V', '\\/') \n",
    "entrada = entrada.replace('W', '\\/\\/')\n",
    "entrada = entrada.replace('X', '><')\n",
    "entrada = entrada.replace('Y', 'Y')\n",
    "entrada = entrada.replace('Z', '2')  \n",
    "\n",
    "print(f\"Palavra traduzida para LEET: {entrada}\")"
   ]
  },
  {
   "cell_type": "markdown",
   "metadata": {},
   "source": [
    "\n",
    "13 Crie um programa que recebe uma lista de números e \n",
    "\n",
    "- retorne o maior elemento \n",
    "\n",
    "- retorne a soma dos elementos \n",
    "\n",
    "- retorne o número de ocorrências do primeiro elemento da lista \n",
    "\n",
    "- retorne a média dos elementos \n",
    "\n",
    "- retorne o valor mais próximo da média dos elementos \n",
    "\n",
    "- retorne a soma dos elementos com valor negativo\n",
    "\n",
    "- retorne a quantidade de vizinhos iguais"
   ]
  },
  {
   "cell_type": "code",
   "execution_count": null,
   "metadata": {},
   "outputs": [],
   "source": [
    "#Ex13\n",
    "\n",
    "list01 = []\n",
    "\n",
    "while len(list01) <= 4: #para ter 5 numeros\n",
    "    numb = int (input (\"Digite numeros: \"))\n",
    "    list01.append(numb)\n",
    "\n",
    "#Maior\n",
    "maior =  max(list01, key=int)\n",
    "\n",
    "#Soma\n",
    "soma = 0   \n",
    "for i in range(len(list01)):\n",
    "    soma += list01[i]\n",
    "    \n",
    "#Ocorrencias do primeiro\n",
    "ocorrencia = list01.count(list01[0])\n",
    "\n",
    "#Media\n",
    "listSum = sum(list01)\n",
    "media = listSum / len(list01)\n",
    "\n",
    "#SomaNegativo\n",
    "listNegativo = []\n",
    "for i in range(len(list01)):\n",
    "    negativo = list01[i] * -1\n",
    "    listNegativo.append(negativo)\n",
    "    \n",
    "somaNegativo = sum(listNegativo)\n",
    "\n",
    "#Quantidade de vizinhos iguais\n",
    "vizinho = 0\n",
    "for i in range(len(list01)):\n",
    "    if i == 0:\n",
    "        if list01[i] == list01[i+1]:\n",
    "            vizinho +=1\n",
    "    elif i < len(list01):\n",
    "         if list01[i] == list01[i-1]:\n",
    "            vizinho +=1\n",
    "    elif i > 0 and i < len(list01):\n",
    "        if list01[i] == list01[i-1] or list01[i] == list01[i+1]:\n",
    "            vizinho += 1\n",
    "\n",
    "#MaisProxMedia\n",
    "count = list01[0]\n",
    "mais_prox = 0\n",
    "for i in range(1, len(list01)):\n",
    "    if media == list01[i]:\n",
    "        mais_prox = media\n",
    "        break\n",
    "    elif media - list01[i] > 0 and count> media - list01[i]:\n",
    "        count = media - list01[i]\n",
    "        mais_prox = list01[i]\n",
    "    elif list01[i] - media > 0 and count > list01[i] - media:\n",
    "        count = list01[i] - media\n",
    "        mais_prox = list01[i]\n",
    "\n",
    "print (f\"Maior: {maior}, Soma: {soma}, Ocorrencias do 1º num: {ocorrencia}\" \\\n",
    "       f\"\\nMédia: {media}, Mais proximo da media: {mais_prox}\" \\\n",
    "        f\"\\nSoma dos Negativos: {somaNegativo}, Qtd de vizinho iguais: {vizinho}\")"
   ]
  },
  {
   "cell_type": "markdown",
   "metadata": {},
   "source": [
    "14 Faça um programa que receba duas listas e retorne True se são iguais ou False caso contrario. Duas listas são iguais se possuem os mesmos valores e na mesma ordem."
   ]
  },
  {
   "cell_type": "code",
   "execution_count": null,
   "metadata": {},
   "outputs": [],
   "source": [
    "#Ex14\n",
    "\n",
    "list01 = [1, 'b', 2, 3, 'oi']\n",
    "list02 = [1, 'b', 2, 3, 'oi']\n",
    "\n",
    "igual = False\n",
    "if list01 == list02:\n",
    "    igual = True\n",
    "    \n",
    "print (igual)"
   ]
  },
  {
   "cell_type": "markdown",
   "metadata": {},
   "source": [
    "\n",
    "15 Faça um programa que receba duas listas e retorne True se têm os mesmos elementos ou False caso contrário \n",
    "Duas listas possuem os mesmos elementos quando são compostas pelos mesmos valores, mas não obrigatoriamente na mesma ordem."
   ]
  },
  {
   "cell_type": "code",
   "execution_count": null,
   "metadata": {},
   "outputs": [],
   "source": [
    "#Ex15\n",
    "list01 = [1, 'b', 2, 3, 'oi']\n",
    "list02 = [3, 'oi', 2, 1, 'b']\n",
    "\n",
    "contarTodos = 0\n",
    "igual = False\n",
    "for i in range(len(list01)):\n",
    "    if list01[i] in list02:\n",
    "        contarTodos +=1\n",
    "        \n",
    "if contarTodos == len(list01):\n",
    "    igual = True\n",
    "print(igual)"
   ]
  },
  {
   "cell_type": "markdown",
   "metadata": {},
   "source": [
    "16 Faça um programa que percorre uma lista com o seguinte formato: [['Brasil', 'Italia', [10, 9]], ['Brasil', 'Espanha', [5, 7]], ['Italia', 'Espanha', [7,8]]]. Essa lista indica o número de faltas que cada time fez em cada jogo. Na lista acima, no jogo entre Brasil e Itália, o Brasil fez 10 faltas e a Itália fez 9. O programa deve imprimir na tela:\n",
    "\n",
    "- o total de faltas do campeonato \n",
    "- o time que fez mais faltas \n",
    "- o time que fez menos faltas"
   ]
  },
  {
   "cell_type": "code",
   "execution_count": null,
   "metadata": {},
   "outputs": [],
   "source": [
    "#Ex16\n",
    "\n",
    "faltas = [['Brasil', 'Italia' ,[10,9]],\n",
    "          ['Brasil', 'Espanha',[5,7]],\n",
    "          ['Italia', 'Espanha',[7,8]]]\n",
    "print('Total de faltas:', faltas[0][2][0]+faltas[0][2][1]+\n",
    "faltas[1][2][0]+faltas[1][2][1]+\n",
    "faltas[2][2][0]+faltas[2][2][1])\n",
    "pais = [['Brasil',faltas[0][2][0]+faltas[1][2][0]],\n",
    "        ['Italia',faltas[0][2][1]+faltas[2][2][0]],\n",
    "        ['Espanha', faltas[1][2][1]+faltas[2][2][1]]]\n",
    "print('País mais faltoso:', max(pais))\n",
    "print('País menos faltoso:', min(pais))"
   ]
  },
  {
   "cell_type": "markdown",
   "metadata": {},
   "source": [
    "17 Escreva um programa que conta a quantidade de vogais em uma string e armazena tal quantidade em um dicionário, onde a chave é a vogal considerada."
   ]
  },
  {
   "cell_type": "code",
   "execution_count": null,
   "metadata": {},
   "outputs": [],
   "source": [
    "#Ex17\n",
    "s = 'sistemas de informacao'\n",
    "vogais = ['a', 'e', 'i', 'o', 'u']\n",
    "totais = {vogais[0]: s.count(vogais[0]),\n",
    "          vogais[1]: s.count(vogais[1]),\n",
    "          vogais[2]: s.count(vogais[2]),\n",
    "          vogais[3]: s.count(vogais[3]),\n",
    "          vogais[4]: s.count(vogais[4])}\n",
    "print(totais)"
   ]
  },
  {
   "cell_type": "markdown",
   "metadata": {},
   "source": [
    "18 Escreva um programa que lê̂ duas notas de vários alunos e armazena tais notas em um dicionário, onde a chave é o nome do aluno. A entrada de dados deve terminar quando for lida uma string vazia como nome. Escreva uma função que retorna a média do aluno, dado seu nome."
   ]
  },
  {
   "cell_type": "code",
   "execution_count": null,
   "metadata": {},
   "outputs": [],
   "source": [
    "#Ex18\n",
    "\n",
    "notas = {}\n",
    "nome_aluno = \" \"\n",
    "while nome_aluno != \"\": \n",
    "    nome_aluno = str (input (\"Digite o nome do aluno: \")).upper()\n",
    "    if nome_aluno == \"\":\n",
    "        break\n",
    "    else:\n",
    "        nota01 = int (input (\"Digite a nota01: \"))\n",
    "        nota02 = int (input (\"Digite a nota02: \"))\n",
    "        notas[nome_aluno] = [nota01, nota02]\n",
    "\n",
    "aluno = str(input (\"Digite o nome do aluno para saber a media: \")).upper()\n",
    "\n",
    "if aluno in notas:\n",
    "    nota_para_media = notas[aluno]\n",
    "    media = sum(nota_para_media)/len(nota_para_media)\n",
    "    \n",
    "print(f\"Aluno: {aluno}, Média: {media}\")"
   ]
  },
  {
   "cell_type": "markdown",
   "metadata": {},
   "source": [
    "19 Uma pista de Kart permite 10 voltas para cada um de 6 corredores. Escreva um programa que leia todos os tempos em segundos e os guarde em um dicionário, onde a chave é o nome do corredor. Ao final diga de quem foi a melhor volta da prova e em que volta; e ainda a classificação final em ordem (1o o campeão). O campeão é o que tem a menor média de tempos."
   ]
  },
  {
   "cell_type": "code",
   "execution_count": null,
   "metadata": {},
   "outputs": [],
   "source": [
    "#Ex19\n",
    "import operator\n",
    "\n",
    "corrida = {\n",
    "    \"Vinicius\": [9.34, 1.50, 8.98, 7.01, 5.68, 6.1, 8.91, 3.23, 6.42, 2.33],\n",
    "    \"Gabriel\":  [5.34, 3.50, 2.98, 4.02, 5.88, 6.1, 8.29, 4.23, 6.24, 2.32],\n",
    "    \"Ronaldo\":  [3.64, 5.50, 6.98, 2.03, 5.89, 6.1, 8.39, 6.23, 6.34, 2.35],\n",
    "    \"Eduardo\":  [7.34, 6.50, 5.98, 9.05, 5.38, 6.1, 8.69, 8.23, 6.54, 2.36],\n",
    "    \"Pedro\":    [8.64, 2.50, 3.98, 6.07, 5.48, 6.1, 8.99, 1.23, 6.14, 2.37],\n",
    "    \"Gustavo\":  [2.34, 8.50, 8.76, 8.54, 5.28, 6.1, 7.93, 2.23, 6.43, 2.32]\n",
    "}\n",
    "volta = 0\n",
    "medias = corrida\n",
    "nome = \"\"\n",
    "melhorVolta = corrida[\"Vinicius\"][0]\n",
    "for chave in corrida:\n",
    "    soma = 0\n",
    "    for num in corrida[chave]:\n",
    "        if num < melhorVolta:\n",
    "            melhorVolta = num\n",
    "            nome = chave\n",
    "        soma += num\n",
    "    medias[chave] = soma / 10\n",
    "\n",
    "#itemgeter 1 é a posição do valor do medias.items()\n",
    "sort = sorted(medias.items(), key=operator.itemgetter(1))\n",
    "for i in range(0, 6):\n",
    "    print(f\"{i+1}° lugar: {sort[i][0]} - {sort[i][1]:.2f} seg\")\n"
   ]
  },
  {
   "cell_type": "markdown",
   "metadata": {},
   "source": [
    "20 Escreva um programa para armazenar uma agenda de telefones em um dicionário. Cada pessoa pode ter um ou mais telefones e a chave do dicionário é o nome da pessoa. Seu programa deve ter as seguintes funções:\n",
    "\n",
    "- incluirNovoNome – essa função acrescenta um novo nome na agenda, com um ou mais telefones. Ela deve receber como argumentos o nome e os telefones.\n",
    "- incluirTelefone – essa função acrescenta um telefone em um nome existente na agenda. Caso o nome não exista na agenda, você̂ deve perguntar se a pessoa deseja inclui-lo. Caso a resposta seja afirmativa, use a função anterior para incluir o novo nome.\n",
    "- excluirTelefone – essa função exclui um telefone de uma pessoa que já está na agenda. Se a pessoa tiver apenas um telefone, ela deve ser excluída da agenda.\n",
    "- excluirNome – essa função exclui uma pessoa da agenda.\n",
    "- consultarTelefone – essa função retorna os telefones de uma pessoa na agenda."
   ]
  },
  {
   "cell_type": "code",
   "execution_count": null,
   "metadata": {},
   "outputs": [],
   "source": [
    "#Ex20\n",
    "\n",
    "agenda = {}\n",
    "\n",
    "def incluirNovoNome(nome,telefones):\n",
    "    global agenda\n",
    "    agenda[nome]= telefones\n",
    "\n",
    "def incluirTelefone(nome,telefone):\n",
    "    global agenda\n",
    "    if nome in agenda.keys():\n",
    "        agenda[nome].append(telefone)\n",
    "    else:\n",
    "        if input(\"Essa pessoa não existe, incluir na agenda ? (s/n)\") == \"s\":\n",
    "            telefones = [telefone]\n",
    "            incluirNovoNome(nome,telefones)\n",
    "def excluitTelefone(nome,telefone):\n",
    "    global agenda\n",
    "    if nome in agenda.keys():\n",
    "        if len(agenda[nome]) == 1:\n",
    "            del agenda[nome]\n",
    "        else:\n",
    "            for num in range(0,len(agenda[nome]) - 1):\n",
    "                if telefone== agenda[nome][num]:\n",
    "                    agenda[nome].pop(num)\n",
    "                    \n",
    "def consultarTelefone(nome):\n",
    "    global agenda\n",
    "    if nome in agenda.keys():\n",
    "        print(agenda[nome])\n",
    "\n",
    "opcao = 1\n",
    "while opcao !=0:\n",
    "    opcao = int(input(\"\\n Escolha uma opção: \\n1 - Consultar Agenda \\n2 - Incluir Novo Nome\\n3 - Incluir Telefone\\n4 - Excluir Telefone\\n0- Encerrar Programa\\n\"))\n",
    "    # Consultar Nome\n",
    "    if opcao ==1:\n",
    "        consultarTelefone(input(\"Insira o nome da pessoa: \"))\n",
    "    # inserir novo nome\n",
    "    elif opcao ==2:\n",
    "        nome= input(\"Insira o nome da pessoa: \")\n",
    "        telefones = []\n",
    "        telefones.append(int(input(\"Insira um telefone da pessoa: \")))\n",
    "        telefone= -1\n",
    "        while telefone != 0:\n",
    "            telefone = int(input(\"Insistir outro telefone ou digite 0 para parar: \"))\n",
    "            if telefone !=0:\n",
    "                telefones.append(telefone)\n",
    "        incluirNovoNome(nome,telefones)\n",
    "    # incluir telefone\n",
    "    elif opcao == 3:\n",
    "        nome=input(\"Insira o nome da pessoa: \")\n",
    "        telefone=(int(input(\"Insira um novo telefone: \")))\n",
    "        incluirTelefone(nome,telefone)\n",
    "    # excluir telefone\n",
    "    elif opcao ==4:\n",
    "        nome=input(\"Insira o nome da pessoa: \")\n",
    "        telefone(int(input(\"Insira o telefone da pessoa que deseja excluir: \")))\n",
    "        excluirTelefone(nome,telefone)"
   ]
  },
  {
   "cell_type": "markdown",
   "metadata": {},
   "source": [
    "21 Faça um programa que leia um arquivo texto contendo uma lista de endereços IP e gere um outro arquivo, contendo um relatório dos endereços IP válidos e inválidos. O arquivo de entrada possui o seguinte formato:\n",
    "\n",
    "- 200.135.80.9\n",
    "- 192.168.1.1\n",
    "- 8.35.67.74\n",
    "- 257.32.4.5\n",
    "- 85.345.1.2\n",
    "- 1.2.3.4\n",
    "- 9.8.234.5\n",
    "- 192.168.0.256 \n",
    "\n",
    "O arquivo de saída possui o seguinte formato: \n",
    "\n",
    "[Endereços válidos:]\n",
    "- 200.135.80.9\n",
    "- 192.168.1.1\n",
    "- 8.35.67.74\n",
    "- 1.2.3.4 \n",
    "\n",
    "[Endereços inválidos:]\n",
    "- 257.32.4.5\n",
    "- 85.345.1.2\n",
    "- 9.8.234.5\n",
    "- 192.168.0.256"
   ]
  },
  {
   "cell_type": "code",
   "execution_count": null,
   "metadata": {},
   "outputs": [],
   "source": [
    "#Ex21\n",
    "\n",
    "valido = list()\n",
    "invalido = list()\n",
    "for ip in open('lista_ip.txt', 'r'):\n",
    "    l_ip = ip.split('.')\n",
    "    #a função map aplica uma função (no caso, int) sobre\n",
    "    #cada elemento da lista\n",
    "    l_ip = list(map(int,l_ip))\n",
    "    if len(l_ip) != 4:\n",
    "        invalido.append(l_ip)\n",
    "    else:\n",
    "        for i in l_ip:\n",
    "            if i < 0 or i > 255:\n",
    "                invalido.append(l_ip)\n",
    "                break\n",
    "        else:\n",
    "            valido.append(l_ip)   \n",
    "print('[Endereços válidos]')\n",
    "for i in valido:\n",
    "    print(f'{i[0]}.{i[1]}.{i[2]}.{i[3]}')\n",
    "print('[Endereços inválidos]')\n",
    "for i in invalido:\n",
    "    print(f'{i[0]}.{i[1]}.{i[2]}.{i[3]}')"
   ]
  },
  {
   "cell_type": "markdown",
   "metadata": {},
   "source": [
    "22 A ACME Inc., uma empresa de 500 funcionários, está tendo problemas de espaço\\n, em disco no seu servidor de arquivos. Para tentar resolver este problema, o\\n, Administrador de Rede precisa saber qual o espaço ocupado pelos usuários, e\\n, identificar os usuários com maior espaço ocupado. Através de um programa, baixado\\n, da Internet, ele conseguiu gerar o seguinte arquivo, chamado \\usuarios.txt\\:\\n, \\n, alexandre 456123789\\n, anderson 1245698456\\n, antonio 123456456\\n, carlos 91257581\\n, cesar 987458\\n, rosemary 789456125\\n, \\n, Neste arquivo, o nome do usuário possui 15 caracteres. A partir deste arquivo, você\\n, deve criar um programa que gere um relatório, chamado \\relatório.txt\\, no seguinte\\n, formato:\\n, \\n, ACME Inc. Uso do espaço em disco pelos usuários\\n, --------------------------------------------------------------\\n, ----------\\n, Nr. Usuário Espaço utilizado % do uso\\n, 1 alexandre 434,99 MB 16,85%\\n, 2 anderson 1187,99 MB 46,02%\\n, 3 antonio 117,73 MB 4,56%\\n, 4 carlos 87,03 MB 3,37%\\n, 5 cesar 0,94 MB 0,04%\\n, 6 rosemary 752,88 MB 29,16%\\n, Espaço total ocupado: 2581,57 MB\\n, Espaço médio ocupado: 430,26 MB\\n, \\n, O arquivo de entrada deve ser lido uma única vez, e os dados armazenados em\\n, memória, caso sejam necessários, de forma a agilizar a execução do programa. A\\n, conversão da espaço ocupado em disco, de bytes para megabytes deverá ser feita\\n, através de uma função separada, que será chamada pelo programa principal. O\\n, cálculo do percentual de uso também deverá ser feito através de uma função, que\\n, será chamada pelo programa principal."
   ]
  },
  {
   "cell_type": "code",
   "execution_count": null,
   "metadata": {},
   "outputs": [],
   "source": [
    "#Ex22\n",
    "\n",
    "def paraMb(tamanho):\n",
    "    return float(tamanho/(1024*1024))\n",
    "\n",
    "def usoMemoria(tamanho,total):\n",
    "    return float(tamanho/total)*100\n",
    "\n",
    "dic={}\n",
    "total = 0\n",
    "usuarios = open(\"usuarios.txt\")\n",
    "for usuario in usuarios:\n",
    "    nome,memoria = usuario.split(\" \")\n",
    "    dic[nome]= int(memoria)\n",
    "    total += int(memoria)\n",
    "usuarios.close()\n",
    "media = total/ len(dic.keys())\n",
    "\n",
    "relatorio = open(\"relatorio.txt\", \"w+\")\n",
    "relatorio.write(\"ACME Inc.              Uso do espaço em disco pelos usuarios.\\n\")\n",
    "relatorio.write(\"------------------------------------------------------------\\n\")\n",
    "relatorio.write(\"Nr.\\tUsuario \\tEspaco utilizado\\t %do uso \\n\")\n",
    "\n",
    "nr=1\n",
    "for usuario in dic:\n",
    "    relatorio.write(str(nr) + \"\\t\" + usuario + \"\\t\" + \"  {0:.2f}\".format(paraMb(dic[usuario])) + \"MB\\t\\t\" + \"{0:.2f}\".format(usoMemoria(dic[usuario],total))+\"%\\n\")\n",
    "    nr+=1\n",
    "relatorio.write(\"Espaço total ocupado: \" + \" {0:.2f}\".format(paraMb(total)) + \"\\n\")\n",
    "relatorio.write(\"Espaço médio ocupado: \" + \"{0:.2f}\".format(paraMb(media)))\n",
    "\n",
    "relatorio.close()"
   ]
  }
 ],
 "metadata": {
  "kernelspec": {
   "display_name": "Python 3",
   "language": "python",
   "name": "python3"
  },
  "language_info": {
   "codemirror_mode": {
    "name": "ipython",
    "version": 3
   },
   "file_extension": ".py",
   "mimetype": "text/x-python",
   "name": "python",
   "nbconvert_exporter": "python",
   "pygments_lexer": "ipython3",
   "version": "3.7.3"
  }
 },
 "nbformat": 4,
 "nbformat_minor": 2
}
